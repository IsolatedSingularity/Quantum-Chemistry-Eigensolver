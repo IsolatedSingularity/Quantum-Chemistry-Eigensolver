{
    "cells": [
        {
            "cell_type": "code",
            "execution_count": 14,
            "metadata": {},
            "outputs": [
                {
                    "name": "stdout",
                    "output_type": "stream",
                    "text": [
                        "NumPy version: 2.2.5\n",
                        "The autoreload extension is already loaded. To reload it, use:\n",
                        "  %reload_ext autoreload\n",
                        "Jupyter environment initialized for quantum chemistry calculations\n"
                    ]
                },
                {
                    "data": {
                        "text/markdown": [
                            "\n",
                            "**Note:** This notebook relies on NumPy for numerical operations and the autoreload extension to\n",
                            "help with module development. The `autoreload 0` setting means no modules will be automatically reloaded.\n"
                        ],
                        "text/plain": [
                            "<IPython.core.display.Markdown object>"
                        ]
                    },
                    "metadata": {},
                    "output_type": "display_data"
                }
            ],
            "source": [
                "# Import essential libraries for quantum computation\n",
                "import numpy as np\n",
                "print(\"NumPy version:\", np.__version__)\n",
                "\n",
                "# Enable automatic reloading of modules\n",
                "%load_ext autoreload\n",
                "%autoreload 0\n",
                "\n",
                "print(\"Jupyter environment initialized for quantum chemistry calculations\")\n",
                "\n",
                "from IPython.display import display, Markdown\n",
                "display(Markdown('''\n",
                "**Note:** This notebook relies on NumPy for numerical operations and the autoreload extension to\n",
                "help with module development. The `autoreload 0` setting means no modules will be automatically reloaded.\n",
                "'''))"
            ]
        },
        {
            "cell_type": "markdown",
            "metadata": {},
            "source": [
                "Notebook by **Maxime Dion** <maxime.dion@usherbrooke.ca><br>\n",
                "For the QSciTech-QuantumBC virtual workshop on gate-based quantum computing"
            ]
        },
        {
            "cell_type": "markdown",
            "metadata": {},
            "source": [
                "# Before you begin\n",
                "\n",
                "Make sure you have completed the first tutorial."
            ]
        },
        {
            "attachments": {},
            "cell_type": "markdown",
            "metadata": {},
            "source": [
                "## Tutorial 2 (Estimation)\n",
                "\n",
                "**Important : Complete Tutorial 1 first**\n",
                "\n",
                "In this tutorial you will complete the implementation of the functions in `estimation.py` and `vqe.py`. \n",
                "\n",
                "By completing all sections of this notebook you'll be able to :\n",
                "- Prepare a Quantum State based on a varitional form (circuit);\n",
                "- Measure qubits in the X, Y and Z basis;\n",
                "- Estimate expectation value of `PauliString` on a quantum state;\n",
                "- Evaluate the expectation value of an Hamiltonian in the form of a `Operator`;\n",
                "- Run a minimization algorithm on the energy expectation fonction to find the ground state of a Hamiltonian;\n",
                "- Dance to express your overwhelming sense of accomplishment\n",
                "\n",
                "The solution we suggest here is NOT mandatory. If you find ways to make it better and more efficient, go on and impress us! \n",
                "\n",
                "**Remark on qiskit**\n",
                "\n",
                "We use `qiskit` in this workshop. The tools you'll be building here are already available in `qiskit`. For instance, you could use an `Estimator` to estimate the expectation value of an observable. You could also use the VQE solution. Nevertheless, we strongly encourage you to complete the current implementation because we think it as a valuable learning experience."
            ]
        },
        {
            "attachments": {},
            "cell_type": "markdown",
            "metadata": {},
            "source": [
                "# Variationnal Quantum States\n",
                "\n",
                "Every quantum circuit starts with all qubits in the state $|0\\rangle$. In order to prepare a quantum state $|\\psi\\rangle$ we need to prepare a `QuantumCircuit` that will modify the states of the qubits in order to get this specific state. The action of a circuit can always be represented as a unitiary operator.\n",
                "\n",
                "\\begin{align}\n",
                "    |\\psi\\rangle &= \\hat{U} |0 \\ldots 0\\rangle\n",
                "\\end{align}\n",
                "\n",
                "For a parametric state the `QuantumCircuit` and therefore the unitary $U$ will depend on some parameters that we wirte as $\\boldsymbol{\\theta}$.\n",
                "\n",
                "\\begin{align}\n",
                "    |\\psi(\\boldsymbol{\\theta})\\rangle &= \\hat{U}(\\boldsymbol{\\theta}) |0 \\ldots 0\\rangle\n",
                "\\end{align}\n",
                "\n",
                "We will see 2 ways to define Parametrized Quantum Circuits that represent Variationnal Quantum States. For the first method we only need the `QuantumCircuit` class from `qiskit.circuit`."
            ]
        },
        {
            "cell_type": "code",
            "execution_count": 15,
            "metadata": {},
            "outputs": [
                {
                    "data": {
                        "text/markdown": [
                            "\n",
                            "**Note:** The `QuantumCircuit` class is the fundamental building block in Qiskit \n",
                            "for creating quantum circuits. We'll use it to define parameterized circuits for our\n",
                            "variational quantum eigensolver.\n"
                        ],
                        "text/plain": [
                            "<IPython.core.display.Markdown object>"
                        ]
                    },
                    "metadata": {},
                    "output_type": "display_data"
                }
            ],
            "source": [
                "# Import the QuantumCircuit class from qiskit for creating quantum circuits\n",
                "from qiskit.circuit import QuantumCircuit\n",
                "\n",
                "# Display information about the import\n",
                "display(Markdown('''\n",
                "**Note:** The `QuantumCircuit` class is the fundamental building block in Qiskit \n",
                "for creating quantum circuits. We'll use it to define parameterized circuits for our\n",
                "variational quantum eigensolver.\n",
                "'''))"
            ]
        },
        {
            "cell_type": "markdown",
            "metadata": {},
            "source": [
                "## Generating function\n",
                "The easiest way to generate a parametrized `QuantumCircuit` is to implement a function that takes parameters as arguments and returns a `QuantumCircuit`. Here is such a function that generates a 2 qubits QuantumCircuit."
            ]
        },
        {
            "cell_type": "code",
            "execution_count": 16,
            "metadata": {},
            "outputs": [],
            "source": [
                "def example_2qubits_2params_quantum_circuit(theta, phi):\n",
                "    # Create a 2-qubit quantum circuit\n",
                "    qc = QuantumCircuit(2)\n",
                "    \n",
                "    # Apply Ry rotation with parameter theta on qubit 0\n",
                "    qc.ry(theta,0)\n",
                "    \n",
                "    # Apply Rz rotation with parameter phi on qubit 0\n",
                "    qc.rz(phi,0)\n",
                "    \n",
                "    # Apply CNOT gate with qubit 0 as control and qubit 1 as target\n",
                "    qc.cx(0,1)\n",
                "    \n",
                "    return qc"
            ]
        },
        {
            "cell_type": "markdown",
            "metadata": {},
            "source": [
                "To visualize this circuit we first need to call the generating function with dummy argument values for it to return a circuit. We can draw the circuit. The `'mpl'` option draws the circuit in a fancy way using `matplotlib`. If you are experiencing problems, you can remove this option."
            ]
        },
        {
            "cell_type": "code",
            "execution_count": 17,
            "metadata": {},
            "outputs": [
                {
                    "data": {
                        "text/markdown": [
                            "\n",
                            "**Example Circuit Visualization:**\n",
                            "- This circuit applies an Ry(1) rotation followed by an Rz(2) rotation on qubit 0\n",
                            "- Then it applies a CNOT gate with control on qubit 0 and target on qubit 1\n",
                            "- This creates entanglement between the two qubits\n"
                        ],
                        "text/plain": [
                            "<IPython.core.display.Markdown object>"
                        ]
                    },
                    "metadata": {},
                    "output_type": "display_data"
                },
                {
                    "data": {
                        "image/png": "[encoded data removed]",
                        "text/plain": [
                            "<Figure size 370.906x200.667 with 1 Axes>"
                        ]
                    },
                    "execution_count": 17,
                    "metadata": {},
                    "output_type": "execute_result"
                }
            ],
            "source": [
                "# Assign our function to a variable for easier calling\n",
                "varform_qc = example_2qubits_2params_quantum_circuit\n",
                "\n",
                "# Create a circuit with specific parameters (theta=1, phi=2)\n",
                "qc = varform_qc(1,2)\n",
                "\n",
                "# Display explanation of the circuit\n",
                "display(Markdown('''\n",
                "**Example Circuit Visualization:**\n",
                "- This circuit applies an Ry(1) rotation followed by an Rz(2) rotation on qubit 0\n",
                "- Then it applies a CNOT gate with control on qubit 0 and target on qubit 1\n",
                "- This creates entanglement between the two qubits\n",
                "'''))\n",
                "\n",
                "# Visualize the circuit using matplotlib renderer\n",
                "qc.draw('mpl')"
            ]
        },
        {
            "cell_type": "markdown",
            "metadata": {},
            "source": [
                "## Using qiskit parameter\n",
                "\n",
                "The other way to generate a parametrized `QuantumCircuit` is to use the `Parameter` class in `qiskit`."
            ]
        },
        {
            "cell_type": "code",
            "execution_count": 18,
            "metadata": {},
            "outputs": [
                {
                    "data": {
                        "text/markdown": [
                            "\n",
                            "**Note:** The `Parameter` class allows us to create symbolic parameters in quantum circuits.\n",
                            "This makes it easy to create variational circuits where gate parameters can be optimized.\n"
                        ],
                        "text/plain": [
                            "<IPython.core.display.Markdown object>"
                        ]
                    },
                    "metadata": {},
                    "output_type": "display_data"
                }
            ],
            "source": [
                "# Import the Parameter class for creating parameterized circuits\n",
                "from qiskit.circuit import Parameter\n",
                "\n",
                "# Display information about parameterization\n",
                "display(Markdown('''\n",
                "**Note:** The `Parameter` class allows us to create symbolic parameters in quantum circuits.\n",
                "This makes it easy to create variational circuits where gate parameters can be optimized.\n",
                "'''))"
            ]
        },
        {
            "cell_type": "markdown",
            "metadata": {},
            "source": [
                "Here is the same circuit as before done with this method."
            ]
        },
        {
            "cell_type": "code",
            "execution_count": 19,
            "metadata": {},
            "outputs": [
                {
                    "data": {
                        "text/markdown": [
                            "\n",
                            "**Parameterized Circuit:**\n",
                            "- This circuit uses symbolic parameters 'a' and 'b' instead of fixed values\n",
                            "- Parameters can be assigned different values later when executing the circuit\n",
                            "- This allows us to reuse the same circuit structure with different parameter values\n"
                        ],
                        "text/plain": [
                            "<IPython.core.display.Markdown object>"
                        ]
                    },
                    "metadata": {},
                    "output_type": "display_data"
                },
                {
                    "data": {
                        "image/png": "[encoded data removed]",
                        "text/plain": [
                            "<Figure size 370.906x200.667 with 1 Axes>"
                        ]
                    },
                    "execution_count": 19,
                    "metadata": {},
                    "output_type": "execute_result"
                }
            ],
            "source": [
                "# Create symbolic parameters for our circuit\n",
                "a = Parameter('a')\n",
                "b = Parameter('b')\n",
                "\n",
                "# Create a new parametrized quantum circuit\n",
                "varform_qc = QuantumCircuit(2)\n",
                "\n",
                "# Add gates with parameters instead of fixed values\n",
                "varform_qc.ry(a,0)  # Parametrized Ry rotation\n",
                "varform_qc.rz(b,0)  # Parametrized Rz rotation\n",
                "varform_qc.cx(0,1)  # Standard CNOT gate\n",
                "\n",
                "# Display explanation about parameterized circuits\n",
                "display(Markdown('''\n",
                "**Parameterized Circuit:**\n",
                "- This circuit uses symbolic parameters 'a' and 'b' instead of fixed values\n",
                "- Parameters can be assigned different values later when executing the circuit\n",
                "- This allows us to reuse the same circuit structure with different parameter values\n",
                "'''))\n",
                "\n",
                "# Visualize the parameterized circuit\n",
                "varform_qc.draw('mpl')"
            ]
        },
        {
            "cell_type": "markdown",
            "metadata": {},
            "source": [
                "Done this way the parametrized circuit can be drawn right away."
            ]
        },
        {
            "cell_type": "code",
            "execution_count": 20,
            "metadata": {},
            "outputs": [
                {
                    "data": {
                        "text/markdown": [
                            "\n",
                            "**Circuit Visualization:**\n",
                            "- The circuit is shown with symbolic parameters 'a' and 'b'\n",
                            "- This visualization is available directly with parameterized circuits\n",
                            "- The circuit structure is identical to our previous example but uses symbolic parameters\n"
                        ],
                        "text/plain": [
                            "<IPython.core.display.Markdown object>"
                        ]
                    },
                    "metadata": {},
                    "output_type": "display_data"
                },
                {
                    "data": {
                        "image/png": "[encoded data removed]",
                        "text/plain": [
                            "<Figure size 370.906x200.667 with 1 Axes>"
                        ]
                    },
                    "execution_count": 20,
                    "metadata": {},
                    "output_type": "execute_result"
                }
            ],
            "source": [
                "# Display information about visualization\n",
                "display(Markdown('''\n",
                "**Circuit Visualization:**\n",
                "- The circuit is shown with symbolic parameters 'a' and 'b'\n",
                "- This visualization is available directly with parameterized circuits\n",
                "- The circuit structure is identical to our previous example but uses symbolic parameters\n",
                "'''))\n",
                "\n",
                "# Visualize the parameterized circuit again\n",
                "varform_qc.draw('mpl')"
            ]
        },
        {
            "cell_type": "markdown",
            "metadata": {},
            "source": [
                "To see what are the parameters of a parametrized `QuantumCircuit` you can use"
            ]
        },
        {
            "cell_type": "code",
            "execution_count": 21,
            "metadata": {},
            "outputs": [
                {
                    "data": {
                        "text/markdown": [
                            "\n",
                            "**Circuit Parameters:**\n",
                            "- The `.parameters` property shows all symbolic parameters in the circuit\n",
                            "- Each parameter has a unique name and can be assigned different values\n",
                            "- This allows us to keep track of which parameters need values during optimization\n"
                        ],
                        "text/plain": [
                            "<IPython.core.display.Markdown object>"
                        ]
                    },
                    "metadata": {},
                    "output_type": "display_data"
                }
            ],
            "source": [
                "# Check what parameters exist in our parameterized circuit\n",
                "varform_qc.parameters\n",
                "\n",
                "display(Markdown('''\n",
                "**Circuit Parameters:**\n",
                "- The `.parameters` property shows all symbolic parameters in the circuit\n",
                "- Each parameter has a unique name and can be assigned different values\n",
                "- This allows us to keep track of which parameters need values during optimization\n",
                "'''))"
            ]
        },
        {
            "attachments": {},
            "cell_type": "markdown",
            "metadata": {},
            "source": [
                "To assign values to the different parameters we need to use the `QuantumCircuit.assign_paremeters()` method. This methods takes a `dict` as an argument containing the `Parameter`s and their `value`s."
            ]
        },
        {
            "cell_type": "code",
            "execution_count": 22,
            "metadata": {},
            "outputs": [
                {
                    "data": {
                        "text/markdown": [
                            "\n",
                            "**Parameter Assignment:**\n",
                            "- We create a dictionary mapping each Parameter object to its numerical value\n",
                            "- The `.assign_parameters()` method creates a new circuit with parameters replaced by values\n",
                            "- Notice that the circuit diagram now shows the actual parameter values (1 and 2)\n"
                        ],
                        "text/plain": [
                            "<IPython.core.display.Markdown object>"
                        ]
                    },
                    "metadata": {},
                    "output_type": "display_data"
                },
                {
                    "data": {
                        "image/png": "[encoded data removed]",
                        "text/plain": [
                            "<Figure size 370.906x200.667 with 1 Axes>"
                        ]
                    },
                    "execution_count": 22,
                    "metadata": {},
                    "output_type": "execute_result"
                }
            ],
            "source": [
                "# Create a dictionary mapping parameters to their values\n",
                "param_dict = {a : 1, b : 2}\n",
                "\n",
                "# Assign these values to the circuit parameters\n",
                "qc = varform_qc.assign_parameters(param_dict)\n",
                "\n",
                "# Display explanation\n",
                "display(Markdown('''\n",
                "**Parameter Assignment:**\n",
                "- We create a dictionary mapping each Parameter object to its numerical value\n",
                "- The `.assign_parameters()` method creates a new circuit with parameters replaced by values\n",
                "- Notice that the circuit diagram now shows the actual parameter values (1 and 2)\n",
                "'''))\n",
                "\n",
                "# Visualize the circuit with assigned parameter values\n",
                "qc.draw('mpl')"
            ]
        },
        {
            "cell_type": "markdown",
            "metadata": {},
            "source": [
                "If you want to provide the parameter values as a `list` or a `np.array` you can build the `dict` directly. Just make sure that the order you use in `param_values` corresponds to the other of `varform_qc.parameters`."
            ]
        },
        {
            "cell_type": "code",
            "execution_count": 23,
            "metadata": {},
            "outputs": [
                {
                    "name": "stdout",
                    "output_type": "stream",
                    "text": [
                        "{Parameter(a): 1, Parameter(b): 2}\n"
                    ]
                },
                {
                    "data": {
                        "text/markdown": [
                            "\n",
                            "**List-based Parameter Assignment:**\n",
                            "- This approach lets you store parameter values as a list or array\n",
                            "- The `zip()` function pairs each parameter with its corresponding value\n",
                            "- When using this method, the order of parameters must match the order in `varform_qc.parameters`\n",
                            "- This approach is useful when working with optimization algorithms that work with arrays\n"
                        ],
                        "text/plain": [
                            "<IPython.core.display.Markdown object>"
                        ]
                    },
                    "metadata": {},
                    "output_type": "display_data"
                }
            ],
            "source": [
                "# Alternative approach: Create parameter dictionary from a list of values\n",
                "param_values = [1, 2]\n",
                "\n",
                "# Use zip to pair parameters with values and create dictionary\n",
                "param_dict = dict(zip(varform_qc.parameters, param_values))\n",
                "\n",
                "# Display the resulting parameter dictionary\n",
                "print(param_dict)\n",
                "\n",
                "display(Markdown('''\n",
                "**List-based Parameter Assignment:**\n",
                "- This approach lets you store parameter values as a list or array\n",
                "- The `zip()` function pairs each parameter with its corresponding value\n",
                "- When using this method, the order of parameters must match the order in `varform_qc.parameters`\n",
                "- This approach is useful when working with optimization algorithms that work with arrays\n",
                "'''))"
            ]
        },
        {
            "cell_type": "markdown",
            "metadata": {},
            "source": [
                "## Varforms circuits for H2\n",
                "Using the method of you choice, prepare 2 different 4-qubit `QuantumCircuit`s. \n",
                "- The first should take 1 parameter to cover the real coefficients state sub space spanned by $|0101\\rangle$ and $|1010\\rangle$.\n",
                "- The second should take 3 parameters to cover the real coefficients state sub space spanned by $|0101\\rangle$, $|0110\\rangle$, $|1001\\rangle$ and $|1010\\rangle$.\n",
                "\n",
                "Revisit the presentation to find such circuits."
            ]
        },
        {
            "cell_type": "code",
            "execution_count": null,
            "metadata": {},
            "outputs": [
                {
                    "name": "stdout",
                    "output_type": "stream",
                    "text": [
                        "Building 1-parameter variational form for H2 molecule\n",
                        "Step 1: Preparing |0101⟩ state with X gates on qubits 1 and 3\n",
                        "Step 2: Applying parameterized Ry rotations to create superposition\n",
                        "Step 3: Adding CNOT gates for entanglement\n",
                        "Variational form with 1 parameter complete\n"
                    ]
                },
                {
                    "data": {
                        "text/markdown": [
                            "\n",
                            "**Circuit explanation:**\n",
                            "- This circuit creates a superposition of |0101⟩ and |1010⟩ states\n",
                            "- The parameter 'a' controls the amplitude of each state in the superposition\n",
                            "- When a = 0: Circuit outputs |0101⟩\n",
                            "- When a = π/2: Circuit creates an equal superposition\n",
                            "- CNOT gates create the necessary entanglement between qubit pairs\n"
                        ],
                        "text/plain": [
                            "<IPython.core.display.Markdown object>"
                        ]
                    },
                    "metadata": {},
                    "output_type": "display_data"
                },
                {
                    "data": {
                        "image/png": "[encoded data removed]",
                        "text/plain": [
                            "<Figure size 371.107x367.889 with 1 Axes>"
                        ]
                    },
                    "execution_count": 28,
                    "metadata": {},
                    "output_type": "execute_result"
                }
            ],
            "source": [
                "# Creating a 4-qubit variational form with 1 parameter\n",
                "varform_4qubits_1param = QuantumCircuit(4)\n",
                "a = Parameter('a')\n",
                "\n",
                "print(\"Building 1-parameter variational form for H2 molecule\")\n",
                "\n",
                "# Prepare |0101⟩ state\n",
                "print(\"Step 1: Preparing |0101⟩ state with X gates on qubits 1 and 3\")\n",
                "varform_4qubits_1param.x([1, 3])\n",
                "\n",
                "# Apply parameterized rotation to create superposition\n",
                "print(\"Step 2: Applying parameterized Ry rotations to create superposition\")\n",
                "varform_4qubits_1param.ry(a, 0)\n",
                "varform_4qubits_1param.ry(a, 1)\n",
                "varform_4qubits_1param.ry(-a, 2)\n",
                "varform_4qubits_1param.ry(-a, 3)\n",
                "\n",
                "# Add CNOT gates for entanglement\n",
                "print(\"Step 3: Adding CNOT gates for entanglement\")\n",
                "varform_4qubits_1param.cx(0, 1)\n",
                "varform_4qubits_1param.cx(2, 3)\n",
                "\n",
                "print(\"Variational form with 1 parameter complete\")\n",
                "\n",
                "display(Markdown('''\n",
                "**Circuit explanation:**\n",
                "- This circuit creates a superposition of |0101⟩ and |1010⟩ states\n",
                "- The parameter 'a' controls the amplitude of each state in the superposition\n",
                "- When a = 0: Circuit outputs |0101⟩\n",
                "- When a = π/2: Circuit creates an equal superposition\n",
                "- CNOT gates create the necessary entanglement between qubit pairs\n",
                "'''))\n",
                "\n",
                "varform_4qubits_1param.draw('mpl')\n"
            ]
        },
        {
            "cell_type": "code",
            "execution_count": null,
            "metadata": {},
            "outputs": [
                {
                    "name": "stdout",
                    "output_type": "stream",
                    "text": [
                        "Building 3-parameter variational form for H2 molecule\n",
                        "Step 1: Preparing |0101⟩ state with X gates on qubits 1 and 3\n",
                        "Step 2: Applying parameterized Ry rotations with different parameters\n",
                        "Step 3: Adding CNOT gates for entanglement between all relevant qubit pairs\n",
                        "Variational form with 3 parameters complete\n"
                    ]
                },
                {
                    "data": {
                        "text/markdown": [
                            "\n",
                            "**Circuit explanation:**\n",
                            "- This circuit creates a superposition spanning |0101⟩, |0110⟩, |1001⟩, and |1010⟩ states\n",
                            "- Three parameters (a, b, c) allow more flexibility in the state preparation:\n",
                            "  * Parameter 'a' controls rotation on qubit 0\n",
                            "  * Parameter 'b' controls rotations on qubits 1 and 2\n",
                            "  * Parameter 'c' controls rotation on qubit 3\n",
                            "- The extra CNOT between qubits 1 and 2 creates entanglement across all qubits\n"
                        ],
                        "text/plain": [
                            "<IPython.core.display.Markdown object>"
                        ]
                    },
                    "metadata": {},
                    "output_type": "display_data"
                },
                {
                    "data": {
                        "image/png": "[encoded data removed]",
                        "text/plain": [
                            "<Figure size 454.719x367.889 with 1 Axes>"
                        ]
                    },
                    "execution_count": 29,
                    "metadata": {},
                    "output_type": "execute_result"
                }
            ],
            "source": [
                "# Creating a 4-qubit variational form with 3 parameters\n",
                "varform_4qubits_3params = QuantumCircuit(4)\n",
                "a = Parameter('a')\n",
                "b = Parameter('b')\n",
                "c = Parameter('c')\n",
                "\n",
                "print(\"Building 3-parameter variational form for H2 molecule\")\n",
                "\n",
                "# Prepare |0101⟩ state\n",
                "print(\"Step 1: Preparing |0101⟩ state with X gates on qubits 1 and 3\")\n",
                "varform_4qubits_3params.x([1, 3])\n",
                "\n",
                "# Apply parameterized rotations for the superposition\n",
                "print(\"Step 2: Applying parameterized Ry rotations with different parameters\")\n",
                "varform_4qubits_3params.ry(a, 0)\n",
                "varform_4qubits_3params.ry(b, 1)\n",
                "varform_4qubits_3params.ry(b, 2)\n",
                "varform_4qubits_3params.ry(c, 3)\n",
                "\n",
                "# Add CNOT gates for entanglement\n",
                "print(\"Step 3: Adding CNOT gates for entanglement between all relevant qubit pairs\")\n",
                "varform_4qubits_3params.cx(0, 1)\n",
                "varform_4qubits_3params.cx(2, 3)\n",
                "varform_4qubits_3params.cx(1, 2)\n",
                "\n",
                "print(\"Variational form with 3 parameters complete\")\n",
                "\n",
                "display(Markdown('''\n",
                "**Circuit explanation:**\n",
                "- This circuit creates a superposition spanning |0101⟩, |0110⟩, |1001⟩, and |1010⟩ states\n",
                "- Three parameters (a, b, c) allow more flexibility in the state preparation:\n",
                "  * Parameter 'a' controls rotation on qubit 0\n",
                "  * Parameter 'b' controls rotations on qubits 1 and 2\n",
                "  * Parameter 'c' controls rotation on qubit 3\n",
                "- The extra CNOT between qubits 1 and 2 creates entanglement across all qubits\n",
                "'''))\n",
                "\n",
                "varform_4qubits_3params.draw('mpl')\n"
            ]
        },
        {
            "attachments": {},
            "cell_type": "markdown",
            "metadata": {},
            "source": [
                "# Estimation\n",
                "\n",
                "The goal of the estimation is to estimate the expectation value of an observable for a given quantum state. "
            ]
        },
        {
            "attachments": {},
            "cell_type": "markdown",
            "metadata": {},
            "source": [
                "## Pauli Based Measurements\n",
                "\n",
                "Since our observable (the Hamiltonian) is given as a linear combination of Pauli strings, we will need to estimate the expectation value of these Pauli string.\n",
                "\n",
                "\\begin{align*}\n",
                "    \\langle \\psi |\\hat{O} | \\psi \\rangle \n",
                "    =\n",
                "    \\sum_i h_i  \\langle\\psi |\\hat{P}_i | \\psi \\rangle.\n",
                "\\end{align*} \n",
                "\n",
                "### Diagonalisation\n",
                "\n",
                "We have seen that even if a quantum computer can only measure qubits in the Z-basis, the X and Y-basis are accessible if we *rotate* the quantum state before measuring. \n",
                "\n",
                "\\begin{align*}\n",
                "    \\langle\\psi |\\hat{P} | \\psi \\rangle \n",
                "    =\n",
                "    \\langle\\psi |\\hat{U}^\\dagger_\\text{diag} \\hat{\\mathcal{Z}} \\hat{U}_\\text{diag} | \\psi \\rangle \n",
                "    = \n",
                "    \\langle\\psi^\\prime |\\hat{\\mathcal{Z}} | \\psi^\\prime \\rangle.\n",
                "\\end{align*} \n",
                "\n",
                "Implement the function : `diagonal_pauli_with_circuit` in the `estimation.py` file. This should return a diagonal `PauliString` and the `QuantumCircuit` that performs a transformation which diagonalize it."
            ]
        },
        {
            "cell_type": "markdown",
            "metadata": {},
            "source": [
                "Test your code with the next cell."
            ]
        },
        {
            "cell_type": "code",
            "execution_count": 30,
            "metadata": {},
            "outputs": [
                {
                    "name": "stdout",
                    "output_type": "stream",
                    "text": [
                        "Original Pauli string: ZIXY\n",
                        "Diagonalized Pauli string: ZIZZ (should be 'ZIZZ')\n",
                        "\n",
                        "Diagonal circuit that transforms the original Pauli basis to Z basis:\n"
                    ]
                },
                {
                    "data": {
                        "text/markdown": [
                            "\n",
                            "**Note on diagonalization:**\n",
                            "- For Y-measurements: We apply S† then H gates\n",
                            "- For X-measurements: We apply H gates\n",
                            "- For Z-measurements: No gates needed (already in computational basis)\n",
                            "- For Identity (I): No gates needed (doesn't affect measurement)\n"
                        ],
                        "text/plain": [
                            "<IPython.core.display.Markdown object>"
                        ]
                    },
                    "metadata": {},
                    "output_type": "display_data"
                },
                {
                    "data": {
                        "image/png": "[encoded data removed]",
                        "text/plain": [
                            "<Figure size 287.496x367.889 with 1 Axes>"
                        ]
                    },
                    "execution_count": 30,
                    "metadata": {},
                    "output_type": "execute_result"
                }
            ],
            "source": [
                "%autoreload\n",
                "from quantum_chemistry.pauli import PauliString\n",
                "from quantum_chemistry.estimation import diagonal_pauli_with_circuit\n",
                "\n",
                "# Create a Pauli string to test diagonalization\n",
                "pauli_string = PauliString.from_str('ZIXY')\n",
                "print(f\"Original Pauli string: {pauli_string}\")\n",
                "\n",
                "# Diagonalize the Pauli string and get the circuit\n",
                "diagonal_pauli, diagonal_circuit = diagonal_pauli_with_circuit(pauli_string)\n",
                "print(f\"Diagonalized Pauli string: {diagonal_pauli} (should be 'ZIZZ')\")\n",
                "print(\"\\nDiagonal circuit that transforms the original Pauli basis to Z basis:\")\n",
                "\n",
                "display(Markdown('''\n",
                "**Note on diagonalization:**\n",
                "- For Y-measurements: We apply S† then H gates\n",
                "- For X-measurements: We apply H gates\n",
                "- For Z-measurements: No gates needed (already in computational basis)\n",
                "- For Identity (I): No gates needed (doesn't affect measurement)\n",
                "'''))\n",
                "\n",
                "diagonal_circuit.draw('mpl')"
            ]
        },
        {
            "cell_type": "markdown",
            "metadata": {},
            "source": [
                "This diagonalisation circuit should then be composed with the circuit which prepares the state $| \\psi \\rangle$ to get a new circuit which prepares the state $| \\psi^\\prime \\rangle$. This new state will be sampled, meaning it will be measured many times. Each time it will return a bit string, one bit per qubit."
            ]
        },
        {
            "cell_type": "markdown",
            "metadata": {},
            "source": [
                "### Diagonal PauliString eigenvalue\n",
                "\n",
                "Each bit string is an eigenstate to the diagonal Pauli string and there is a associated eigenvalue. This eigenvalue can only be `+1` or `-1`. Therefore you need to code the function `diagonal_pauli_eigenvalue` to compute this value.\n",
                "\n",
                "\\begin{align*}\n",
                "    \\hat{P} |q\\rangle = \\Lambda_q^{(P)} |q\\rangle\n",
                "\\end{align*}\n",
                "\n",
                "Use the following code to test you implementation. You should get `1`, `-1`, `1` and `-1`."
            ]
        },
        {
            "cell_type": "code",
            "execution_count": 31,
            "metadata": {},
            "outputs": [
                {
                    "name": "stdout",
                    "output_type": "stream",
                    "text": [
                        "Diagonal Pauli string: ZZZI\n",
                        "\n",
                        "Calculating eigenvalues for different bit strings:\n",
                        "Bitstring '0001' → Eigenvalue: 1\n",
                        "Bitstring '0100' → Eigenvalue: -1\n",
                        "Bitstring '1100' → Eigenvalue: 1\n",
                        "Bitstring '1110' → Eigenvalue: -1\n"
                    ]
                },
                {
                    "data": {
                        "text/markdown": [
                            "\n",
                            "**Note on Pauli eigenvalues:**\n",
                            "- For a diagonal Pauli string (all Z operators or Identity), each computational basis state is an eigenstate\n",
                            "- The eigenvalue is determined by counting the number of qubits where:\n",
                            "  * The qubit is in state |1⟩ AND\n",
                            "  * The corresponding Pauli operator is Z (not Identity)\n",
                            "- If this count is even, the eigenvalue is +1; if odd, the eigenvalue is -1\n"
                        ],
                        "text/plain": [
                            "<IPython.core.display.Markdown object>"
                        ]
                    },
                    "metadata": {},
                    "output_type": "display_data"
                }
            ],
            "source": [
                "%autoreload\n",
                "from quantum_chemistry.estimation import diagonal_pauli_eigenvalue, bitstring_to_bits\n",
                "from quantum_chemistry.pauli import PauliString\n",
                "\n",
                "# Create a diagonal Pauli string for testing eigenvalue calculation\n",
                "diag_pauli = PauliString.from_str(\"ZZZI\")\n",
                "print(f\"Diagonal Pauli string: {diag_pauli}\")\n",
                "\n",
                "# Test eigenvalue calculation with different bit strings\n",
                "print(\"\\nCalculating eigenvalues for different bit strings:\")\n",
                "print(f\"Bitstring '0001' → Eigenvalue: {diagonal_pauli_eigenvalue(diag_pauli,bitstring_to_bits(\"0001\"))}\")\n",
                "print(f\"Bitstring '0100' → Eigenvalue: {diagonal_pauli_eigenvalue(diag_pauli,bitstring_to_bits(\"0100\"))}\")\n",
                "print(f\"Bitstring '1100' → Eigenvalue: {diagonal_pauli_eigenvalue(diag_pauli,bitstring_to_bits(\"1100\"))}\")\n",
                "print(f\"Bitstring '1110' → Eigenvalue: {diagonal_pauli_eigenvalue(diag_pauli,bitstring_to_bits(\"1110\"))}\")\n",
                "\n",
                "display(Markdown('''\n",
                "**Note on Pauli eigenvalues:**\n",
                "- For a diagonal Pauli string (all Z operators or Identity), each computational basis state is an eigenstate\n",
                "- The eigenvalue is determined by counting the number of qubits where:\n",
                "  * The qubit is in state |1⟩ AND\n",
                "  * The corresponding Pauli operator is Z (not Identity)\n",
                "- If this count is even, the eigenvalue is +1; if odd, the eigenvalue is -1\n",
                "'''))"
            ]
        },
        {
            "attachments": {},
            "cell_type": "markdown",
            "metadata": {},
            "source": [
                "### Diagonal PauliString expectation value\n",
                "\n",
                "Let's now estimate the expectation value of a single diagonal `PauliString`. This needs to be done in the method `diagonal_pauli_expectation_value()`. Implement this method using the one you just implemented (`diagonal_pauli_eigenvalue`) and the following equation\n",
                "\\begin{align*}\n",
                "    \\langle\\psi| \\hat{P}|\\psi \\rangle \\approx \\frac{1}{N_\\text{tot}}\\sum_{q} N_q \\Lambda_q^{(P)}\n",
                "\\end{align*}\n",
                "where $\\Lambda_q^{(P)}$ is the eigenvalue of the `PauliString` for a state $|q\\rangle$ and $N_q$ is the counts, i.e. the number of times this state was measured. Testing your implementation, you should get an expectation value of `0.5`."
            ]
        },
        {
            "cell_type": "code",
            "execution_count": 34,
            "metadata": {},
            "outputs": [
                {
                    "name": "stdout",
                    "output_type": "stream",
                    "text": [
                        "Diagonal Pauli string: ZIZZ\n",
                        "Measurement counts: {'0110': 25, '1001': 75}\n",
                        "  - State '0110' was measured 25 times\n",
                        "  - State '1001' was measured 75 times\n",
                        "\n",
                        "Calculating expectation value...\n",
                        "Expectation value: 0.5\n"
                    ]
                },
                {
                    "data": {
                        "text/markdown": [
                            "\n",
                            "**Expectation value calculation:**\n",
                            "- For each measured bitstring, we calculate its eigenvalue with respect to the Pauli string\n",
                            "- We weight each eigenvalue by how frequently that bitstring was measured\n",
                            "- The expectation value is the weighted average of all eigenvalues\n",
                            "- Formula: $\\langle P \\rangle = \\sum_i \\frac{n_i}{N} \\lambda_i$ where:\n",
                            "  * $n_i$ is the count for bitstring $i$\n",
                            "  * $N$ is the total count\n",
                            "  * $\\lambda_i$ is the eigenvalue of bitstring $i$\n"
                        ],
                        "text/plain": [
                            "<IPython.core.display.Markdown object>"
                        ]
                    },
                    "metadata": {},
                    "output_type": "display_data"
                }
            ],
            "source": [
                "%autoreload\n",
                "from quantum_chemistry.estimation import diagonal_pauli_expectation_value\n",
                "from quantum_chemistry.pauli import PauliString\n",
                "\n",
                "# Create a diagonal Pauli string to test expectation value calculation\n",
                "diagonal_pauli = PauliString.from_str('ZIZZ')\n",
                "print(f\"Diagonal Pauli string: {diagonal_pauli}\")\n",
                "\n",
                "# Create a counts dictionary representing measurement results\n",
                "counts = {'0110' : 25, '1001' : 75}\n",
                "print(f\"Measurement counts: {counts}\")\n",
                "print(f\"  - State '0110' was measured 25 times\")\n",
                "print(f\"  - State '1001' was measured 75 times\")\n",
                "\n",
                "# Calculate the expectation value\n",
                "print(\"\\nCalculating expectation value...\")\n",
                "pauli_string_expectation_value = diagonal_pauli_expectation_value(diagonal_pauli, counts)\n",
                "print(f\"Expectation value: {pauli_string_expectation_value}\")\n",
                "\n",
                "display(Markdown('''\n",
                "**Expectation value calculation:**\n",
                "- For each measured bitstring, we calculate its eigenvalue with respect to the Pauli string\n",
                "- We weight each eigenvalue by how frequently that bitstring was measured\n",
                "- The expectation value is the weighted average of all eigenvalues\n",
                "- Formula: $\\\\langle P \\\\rangle = \\\\sum_i \\\\frac{n_i}{N} \\\\lambda_i$ where:\n",
                "  * $n_i$ is the count for bitstring $i$\n",
                "  * $N$ is the total count\n",
                "  * $\\\\lambda_i$ is the eigenvalue of bitstring $i$\n",
                "'''))"
            ]
        },
        {
            "cell_type": "markdown",
            "metadata": {},
            "source": [
                "### Assemble circuits\n",
                "\n",
                "There is one diagonalisation circuit for each `PauliString`. \n",
                "\n",
                "\\begin{align*}\n",
                "    \\langle\\psi |\\hat{P}_i | \\psi \\rangle = \\langle\\psi |\\hat{U}^{(i)\\dagger}_{\\text{diag}} \\hat{\\mathcal{Z}}_i \\hat{U}^{(i)}_{\\text{diag}} | \\psi \\rangle = \\langle\\psi^{(i)} | \\hat{\\mathcal{Z}}_i  | \\psi^{(i)} \\rangle.\n",
                "\\end{align*}\n",
                "\n",
                "We need to construct the rotated state for each Pauli string and then apply the *measurements*. Given a list of `PauliString`s and a quantum circuit, this is the task of the function `prepare_estimation_circuits_and_diagonal_paulis`. "
            ]
        },
        {
            "cell_type": "code",
            "execution_count": 35,
            "metadata": {},
            "outputs": [
                {
                    "name": "stdout",
                    "output_type": "stream",
                    "text": [
                        "Pauli strings to measure: [<quantum_chemistry.pauli.PauliString object at 0x000001F717E10E20>, <quantum_chemistry.pauli.PauliString object at 0x000001F717E10AF0>]\n"
                    ]
                },
                {
                    "data": {
                        "text/markdown": [
                            "\n",
                            "**Estimation Circuit Generation:**\n",
                            "- For each Pauli string, we create a specialized measurement circuit\n",
                            "- Each circuit includes:\n",
                            "  1. The state preparation circuit (identical for all Pauli strings)\n",
                            "  2. Basis rotation gates to transform X and Y measurements to Z basis\n",
                            "  3. Measurement operations\n",
                            "- The diagonalized Pauli strings tell us how to interpret the measurement results\n"
                        ],
                        "text/plain": [
                            "<IPython.core.display.Markdown object>"
                        ]
                    },
                    "metadata": {},
                    "output_type": "display_data"
                },
                {
                    "name": "stdout",
                    "output_type": "stream",
                    "text": [
                        "\n",
                        "State preparation circuit:\n",
                        "\n",
                        "Generating estimation circuits...\n",
                        "Generated 2 circuits for measurement\n",
                        "\n",
                        "Estimation circuits:\n",
                        "\n",
                        "Circuit 1 for measuring ZXZX (diagonalized to ZZZZ)\n",
                        "        ┌───┐┌───┐ ░ ┌─┐         \n",
                        "   q_0: ┤ X ├┤ H ├─░─┤M├─────────\n",
                        "        └───┘└───┘ ░ └╥┘┌─┐      \n",
                        "   q_1: ───────────░──╫─┤M├──────\n",
                        "        ┌───┐┌───┐ ░  ║ └╥┘┌─┐   \n",
                        "   q_2: ┤ X ├┤ H ├─░──╫──╫─┤M├───\n",
                        "        └───┘└───┘ ░  ║  ║ └╥┘┌─┐\n",
                        "   q_3: ───────────░──╫──╫──╫─┤M├\n",
                        "                   ░  ║  ║  ║ └╥┘\n",
                        "meas: 4/══════════════╩══╩══╩══╩═\n",
                        "                      0  1  2  3 \n",
                        "\n",
                        "Circuit 2 for measuring XZXZ (diagonalized to ZZZZ)\n",
                        "        ┌───┐ ░ ┌─┐         \n",
                        "   q_0: ┤ X ├─░─┤M├─────────\n",
                        "        ├───┤ ░ └╥┘┌─┐      \n",
                        "   q_1: ┤ H ├─░──╫─┤M├──────\n",
                        "        ├───┤ ░  ║ └╥┘┌─┐   \n",
                        "   q_2: ┤ X ├─░──╫──╫─┤M├───\n",
                        "        ├───┤ ░  ║  ║ └╥┘┌─┐\n",
                        "   q_3: ┤ H ├─░──╫──╫──╫─┤M├\n",
                        "        └───┘ ░  ║  ║  ║ └╥┘\n",
                        "meas: 4/═════════╩══╩══╩══╩═\n",
                        "                 0  1  2  3 \n"
                    ]
                }
            ],
            "source": [
                "%autoreload\n",
                "from quantum_chemistry.estimation import prepare_estimation_circuits_and_diagonal_paulis\n",
                "from qiskit.circuit import QuantumCircuit\n",
                "\n",
                "# Create a list of Pauli strings to measure\n",
                "paulis = [PauliString.from_str('ZXZX'), PauliString.from_str('XZXZ')]\n",
                "print(f\"Pauli strings to measure: {paulis}\")\n",
                "\n",
                "# Create a simple state preparation circuit\n",
                "state_circuit = QuantumCircuit(4)\n",
                "state_circuit.x([0,2])  # Apply X gates to qubits 0 and 2\n",
                "\n",
                "# Display information about estimation circuits\n",
                "display(Markdown('''\n",
                "**Estimation Circuit Generation:**\n",
                "- For each Pauli string, we create a specialized measurement circuit\n",
                "- Each circuit includes:\n",
                "  1. The state preparation circuit (identical for all Pauli strings)\n",
                "  2. Basis rotation gates to transform X and Y measurements to Z basis\n",
                "  3. Measurement operations\n",
                "- The diagonalized Pauli strings tell us how to interpret the measurement results\n",
                "'''))\n",
                "\n",
                "print(\"\\nState preparation circuit:\")\n",
                "state_circuit.draw('mpl')\n",
                "\n",
                "# Generate estimation circuits that include state preparation and basis rotations\n",
                "print(\"\\nGenerating estimation circuits...\")\n",
                "estimation_circuits, diagonal_paulis = prepare_estimation_circuits_and_diagonal_paulis(paulis, state_circuit)\n",
                "print(f\"Generated {len(estimation_circuits)} circuits for measurement\")\n",
                "\n",
                "# Print each estimation circuit\n",
                "print(\"\\nEstimation circuits:\")\n",
                "for i, estimation_circuit in enumerate(estimation_circuits):\n",
                "    print(f\"\\nCircuit {i+1} for measuring {paulis[i]} (diagonalized to {diagonal_paulis[i]})\")\n",
                "    print(estimation_circuit)\n",
                "    # Draw the circuit for better visualization\n",
                "    estimation_circuit.draw('mpl')"
            ]
        },
        {
            "cell_type": "markdown",
            "metadata": {},
            "source": [
                "### Running the circuits\n",
                "\n",
                "We need to run and sample these circuits using a `Backend` which could be a simulator or a quantum computer.  Here we provide a simple way to do that using the `AerSimulator`. It should be pretty straight forward to use a quantum computer instead."
            ]
        },
        {
            "cell_type": "code",
            "execution_count": 36,
            "metadata": {},
            "outputs": [
                {
                    "name": "stdout",
                    "output_type": "stream",
                    "text": [
                        "Setting up the quantum backend for simulation...\n",
                        "Using backend: aer_simulator\n",
                        "\n",
                        "Creating a sampler to collect measurement outcomes...\n",
                        "\n",
                        "Optimizing circuits for the backend...\n",
                        "Optimization level: 1 (basic circuit optimization)\n",
                        "\n",
                        "Transpiling circuits to backend's instruction set...\n",
                        "\n",
                        "Submitting job to the backend...\n",
                        "Retrieving results...\n",
                        "Optimization level: 1 (basic circuit optimization)\n",
                        "\n",
                        "Transpiling circuits to backend's instruction set...\n",
                        "\n",
                        "Submitting job to the backend...\n",
                        "Retrieving results...\n"
                    ]
                },
                {
                    "data": {
                        "text/markdown": [
                            "\n",
                            "**Circuit execution process:**\n",
                            "1. First, circuits are optimized through transpilation\n",
                            "2. Then, they're mapped to the backend's native gate set\n",
                            "3. Finally, circuits are executed and measurement results are collected\n",
                            "4. Each circuit is run multiple times (shots) to build a statistical distribution\n"
                        ],
                        "text/plain": [
                            "<IPython.core.display.Markdown object>"
                        ]
                    },
                    "metadata": {},
                    "output_type": "display_data"
                }
            ],
            "source": [
                "from qiskit_ibm_runtime import SamplerV2 as Sampler\n",
                "from qiskit.transpiler.preset_passmanagers import generate_preset_pass_manager\n",
                "from qiskit_aer import AerSimulator\n",
                "\n",
                "print(\"Setting up the quantum backend for simulation...\")\n",
                "backend = AerSimulator()\n",
                "print(f\"Using backend: {backend.name}\")\n",
                "\n",
                "print(\"\\nCreating a sampler to collect measurement outcomes...\")\n",
                "sampler = Sampler(mode=backend)\n",
                "\n",
                "print(\"\\nOptimizing circuits for the backend...\")\n",
                "pass_manager = generate_preset_pass_manager(backend=backend, optimization_level=1)\n",
                "print(f\"Optimization level: 1 (basic circuit optimization)\")\n",
                "\n",
                "print(\"\\nTranspiling circuits to backend's instruction set...\")\n",
                "isa_circuits = pass_manager.run(estimation_circuits)\n",
                "\n",
                "print(\"\\nSubmitting job to the backend...\")\n",
                "job = sampler.run(isa_circuits)\n",
                "print(\"Retrieving results...\")\n",
                "results = job.result()\n",
                "\n",
                "display(Markdown('''\n",
                "**Circuit execution process:**\n",
                "1. First, circuits are optimized through transpilation\n",
                "2. Then, they're mapped to the backend's native gate set\n",
                "3. Finally, circuits are executed and measurement results are collected\n",
                "4. Each circuit is run multiple times (shots) to build a statistical distribution\n",
                "'''))"
            ]
        },
        {
            "cell_type": "code",
            "execution_count": 37,
            "metadata": {},
            "outputs": [
                {
                    "name": "stdout",
                    "output_type": "stream",
                    "text": [
                        "Measurement results for each Pauli string:\n",
                        "\n",
                        "Results for measuring ZXZX (diagonalized to ZZZZ)\n",
                        "Measurement counts: {'0000': 284, '0100': 227, '0001': 273, '0101': 240}\n",
                        "Total shots: 1024\n",
                        "\n",
                        "Results for measuring XZXZ (diagonalized to ZZZZ)\n",
                        "Measurement counts: {'0101': 258, '1101': 261, '0111': 242, '1111': 263}\n",
                        "Total shots: 1024\n"
                    ]
                },
                {
                    "data": {
                        "text/markdown": [
                            "\n",
                            "**Understanding Measurement Results:**\n",
                            "- Each dictionary shows the distribution of measured bit strings\n",
                            "- Keys are the bit strings (e.g., '0101')\n",
                            "- Values are the number of times each bit string was measured\n",
                            "- These counts will be used to calculate the expectation value of each Pauli string\n"
                        ],
                        "text/plain": [
                            "<IPython.core.display.Markdown object>"
                        ]
                    },
                    "metadata": {},
                    "output_type": "display_data"
                }
            ],
            "source": [
                "# Extract and display measurement counts for each circuit\n",
                "print(\"Measurement results for each Pauli string:\")\n",
                "for i in range(len(estimation_circuits)):\n",
                "    # Get counts dictionary for this circuit\n",
                "    counts = results[i].data.meas.get_counts()\n",
                "    print(f\"\\nResults for measuring {paulis[i]} (diagonalized to {diagonal_paulis[i]})\")\n",
                "    print(f\"Measurement counts: {counts}\")\n",
                "    \n",
                "    # Calculate and show the total number of shots\n",
                "    total_shots = sum(counts.values())\n",
                "    print(f\"Total shots: {total_shots}\")\n",
                "\n",
                "display(Markdown('''\n",
                "**Understanding Measurement Results:**\n",
                "- Each dictionary shows the distribution of measured bit strings\n",
                "- Keys are the bit strings (e.g., '0101')\n",
                "- Values are the number of times each bit string was measured\n",
                "- These counts will be used to calculate the expectation value of each Pauli string\n",
                "'''))"
            ]
        },
        {
            "cell_type": "markdown",
            "metadata": {},
            "source": [
                "### Estimate the expectation value of multiple Pauli strings\n",
                "\n",
                "Now that you can sample circuit, you can assemble the previous functions to compute the estimations of the expectation values for a list of `PauliString`s given a quantum state."
            ]
        },
        {
            "cell_type": "code",
            "execution_count": 38,
            "metadata": {},
            "outputs": [
                {
                    "name": "stdout",
                    "output_type": "stream",
                    "text": [
                        "Using backend: aer_simulator\n",
                        "\n",
                        "Pauli strings to measure: [<quantum_chemistry.pauli.PauliString object at 0x000001F6D714A8A0>, <quantum_chemistry.pauli.PauliString object at 0x000001F718F0D130>]\n"
                    ]
                },
                {
                    "data": {
                        "text/markdown": [
                            "\n",
                            "**Expectation Value Calculation Process:**\n",
                            "1. For each Pauli string, a specialized measurement circuit is created\n",
                            "2. The circuit includes necessary basis rotations for X and Y measurements\n",
                            "3. The circuit is executed on the simulator to collect measurement statistics\n",
                            "4. The measurement results are processed to calculate the expectation value\n",
                            "5. The expectation value tells us the average value we would get measuring that observable\n"
                        ],
                        "text/plain": [
                            "<IPython.core.display.Markdown object>"
                        ]
                    },
                    "metadata": {},
                    "output_type": "display_data"
                },
                {
                    "name": "stdout",
                    "output_type": "stream",
                    "text": [
                        "\n",
                        "State preparation circuit:\n",
                        "\n",
                        "Estimating expectation values...\n",
                        "\n",
                        "Expectation values:\n",
                        "<ZXZX> = -0.003906\n",
                        "<XZXZ> = 1.000000\n"
                    ]
                }
            ],
            "source": [
                "from quantum_chemistry.estimation import estimate_paulis_expectation_values\n",
                "from quantum_chemistry.pauli import PauliString\n",
                "from qiskit.circuit import QuantumCircuit\n",
                "from qiskit_aer import AerSimulator\n",
                "\n",
                "# Create a simulator backend\n",
                "backend = AerSimulator()\n",
                "print(f\"Using backend: {backend.name}\")\n",
                "\n",
                "# Create Pauli strings to estimate expectation values for\n",
                "paulis = [PauliString.from_str('ZXZX'), PauliString.from_str('XZXZ')]\n",
                "print(f\"\\nPauli strings to measure: {paulis}\")\n",
                "\n",
                "# Create a quantum state to measure\n",
                "state_circuit = QuantumCircuit(4)\n",
                "state_circuit.x([0,2])    # Apply X gates to qubits 0 and 2\n",
                "state_circuit.h([1,3])    # Apply H gates to qubits 1 and 3\n",
                "\n",
                "# Display information about expectation value calculation\n",
                "display(Markdown('''\n",
                "**Expectation Value Calculation Process:**\n",
                "1. For each Pauli string, a specialized measurement circuit is created\n",
                "2. The circuit includes necessary basis rotations for X and Y measurements\n",
                "3. The circuit is executed on the simulator to collect measurement statistics\n",
                "4. The measurement results are processed to calculate the expectation value\n",
                "5. The expectation value tells us the average value we would get measuring that observable\n",
                "'''))\n",
                "\n",
                "print(\"\\nState preparation circuit:\")\n",
                "state_circuit.draw('mpl')\n",
                "\n",
                "# Estimate expectation values of the Pauli strings\n",
                "print(\"\\nEstimating expectation values...\")\n",
                "expectation_values = estimate_paulis_expectation_values(paulis, state_circuit, backend)\n",
                "\n",
                "# Display results\n",
                "print(\"\\nExpectation values:\")\n",
                "for i, pauli in enumerate(paulis):\n",
                "    print(f\"<{pauli}> = {expectation_values[i]:.6f}\")"
            ]
        },
        {
            "cell_type": "code",
            "execution_count": 39,
            "metadata": {},
            "outputs": [
                {
                    "name": "stdout",
                    "output_type": "stream",
                    "text": [
                        "Using backend: aer_simulator\n",
                        "\n",
                        "Operator: (1.00)*ZXZX + (-1.00)*XZXZ\n",
                        "\n",
                        "State preparation circuit:\n",
                        "\n",
                        "Estimating operator expectation value...\n",
                        "\n",
                        "Expectation value of the operator: -0.996094\n"
                    ]
                },
                {
                    "data": {
                        "text/markdown": [
                            "\n",
                            "**Operator Expectation Value:**\n",
                            "- The operator is a weighted sum of Pauli strings: 1.0*ZXZX + (-1.0)*XZXZ\n",
                            "- To calculate its expectation value:\n",
                            "  1. We first calculate the expectation value of each Pauli string\n",
                            "  2. Then we compute the weighted sum using the coefficients\n",
                            "- This allows us to measure complex observables like Hamiltonians\n"
                        ],
                        "text/plain": [
                            "<IPython.core.display.Markdown object>"
                        ]
                    },
                    "metadata": {},
                    "output_type": "display_data"
                }
            ],
            "source": [
                "from quantum_chemistry.estimation import estimate_observable_expectation_value\n",
                "from quantum_chemistry.pauli import PauliString, Operator\n",
                "from qiskit.circuit import QuantumCircuit\n",
                "from qiskit_aer import AerSimulator\n",
                "\n",
                "# Create a simulator backend\n",
                "backend = AerSimulator()\n",
                "print(f\"Using backend: {backend.name}\")\n",
                "\n",
                "# Create Pauli strings and construct an operator\n",
                "paulis = [PauliString.from_str('ZXZX'), PauliString.from_str('XZXZ')]\n",
                "operator = Operator([1,-1], paulis)  # Linear combination with coefficients 1 and -1\n",
                "print(f\"\\nOperator: {operator}\")\n",
                "\n",
                "# Create a quantum state to measure\n",
                "state_circuit = QuantumCircuit(4)\n",
                "state_circuit.x([0,2])    # Apply X gates to qubits 0 and 2\n",
                "state_circuit.h([1,3])    # Apply H gates to qubits 1 and 3\n",
                "print(\"\\nState preparation circuit:\")\n",
                "state_circuit.draw('mpl')\n",
                "\n",
                "# Estimate expectation value of the operator\n",
                "print(\"\\nEstimating operator expectation value...\")\n",
                "expectation_value = estimate_observable_expectation_value(operator, state_circuit, backend)\n",
                "\n",
                "# Display results\n",
                "print(f\"\\nExpectation value of the operator: {expectation_value:.6f}\")\n",
                "\n",
                "display(Markdown('''\n",
                "**Operator Expectation Value:**\n",
                "- The operator is a weighted sum of Pauli strings: 1.0*ZXZX + (-1.0)*XZXZ\n",
                "- To calculate its expectation value:\n",
                "  1. We first calculate the expectation value of each Pauli string\n",
                "  2. Then we compute the weighted sum using the coefficients\n",
                "- This allows us to measure complex observables like Hamiltonians\n",
                "'''))"
            ]
        },
        {
            "cell_type": "markdown",
            "metadata": {},
            "source": [
                "### Estimate the expectation value of an Operator\n",
                "\n",
                "This should be easy to do now."
            ]
        },
        {
            "cell_type": "markdown",
            "metadata": {},
            "source": [
                "### The Hamiltonian evaluation test\n",
                "\n",
                "We will now use tools from the previous tutorial to construct an Hamiltonian and estimate its expectation value for the basis quantum states $|0101\\rangle$ and $|1010\\rangle$ which should be respectively around `-1.82` and `-0.26`."
            ]
        },
        {
            "cell_type": "code",
            "execution_count": 40,
            "metadata": {},
            "outputs": [
                {
                    "name": "stdout",
                    "output_type": "stream",
                    "text": [
                        "Using backend: aer_simulator\n",
                        "\n",
                        "Loading H2 molecule data...\n",
                        "Loading h2_mo_integrals_d_0750.npz\n",
                        "Bond distance: 0.75 Å\n",
                        "Nuclear repulsion energy: 0.705570 Ha\n",
                        "\n",
                        "Generating fermionic operators and mapping to qubit operators...\n",
                        "Building qubit Hamiltonian...\n",
                        "Hamiltonian contains 15 Pauli terms\n",
                        "\n",
                        "Preparing quantum state |0101⟩...\n"
                    ]
                },
                {
                    "data": {
                        "text/markdown": [
                            "\n",
                            "**H2 Hamiltonian Evaluation:**\n",
                            "- We loaded molecular integrals for H2 at a bond distance of 0.75 Å\n",
                            "- Using Jordan-Wigner transformation, we mapped the fermionic Hamiltonian to a qubit Hamiltonian\n",
                            "- We prepared the |0101⟩ state, which corresponds to a specific electron configuration\n",
                            "- The measured energy should be approximately -1.82 Ha for the electronic energy\n",
                            "- To get the total molecular energy, we add the nuclear repulsion energy\n"
                        ],
                        "text/plain": [
                            "<IPython.core.display.Markdown object>"
                        ]
                    },
                    "metadata": {},
                    "output_type": "display_data"
                },
                {
                    "name": "stdout",
                    "output_type": "stream",
                    "text": [
                        "State preparation circuit:\n",
                        "\n",
                        "Estimating H2 Hamiltonian expectation value...\n",
                        "\n",
                        "Energy of state |0101⟩: -0.267796 Ha\n",
                        "Total molecular energy (electronic + nuclear): 0.437774 Ha\n",
                        "\n",
                        "Energy of state |0101⟩: -0.267796 Ha\n",
                        "Total molecular energy (electronic + nuclear): 0.437774 Ha\n"
                    ]
                }
            ],
            "source": [
                "from quantum_chemistry.estimation import estimate_observable_expectation_value\n",
                "from quantum_chemistry.mapping import build_qubit_hamiltonian, creation_annihilation_operators_with_jordan_wigner\n",
                "from quantum_chemistry.molecule.h2_molecule import load_h2_spin_orbital_integral\n",
                "from qiskit.circuit import QuantumCircuit\n",
                "from qiskit_aer import AerSimulator\n",
                "\n",
                "# Create a simulator backend\n",
                "backend = AerSimulator()\n",
                "print(f\"Using backend: {backend.name}\")\n",
                "\n",
                "# Load H2 molecule data at a specific bond distance\n",
                "print(\"\\nLoading H2 molecule data...\")\n",
                "distance, one_body, two_body, nuc_eneg = load_h2_spin_orbital_integral(\"../h2_data\",\"h2_mo_integrals_d_0750.npz\")\n",
                "print(f\"Bond distance: {distance} Å\")\n",
                "print(f\"Nuclear repulsion energy: {nuc_eneg:.6f} Ha\")\n",
                "\n",
                "# Create fermionic operators and map to qubit operators using Jordan-Wigner transformation\n",
                "print(\"\\nGenerating fermionic operators and mapping to qubit operators...\")\n",
                "creation_operators, annihilation_operators = creation_annihilation_operators_with_jordan_wigner(4)\n",
                "\n",
                "# Build the qubit Hamiltonian from molecular integrals\n",
                "print(\"Building qubit Hamiltonian...\")\n",
                "qubit_hamiltonian = build_qubit_hamiltonian(one_body, two_body, creation_operators, annihilation_operators)\n",
                "print(f\"Hamiltonian contains {len(qubit_hamiltonian.paulis)} Pauli terms\")\n",
                "\n",
                "# Create a quantum state to measure\n",
                "print(\"\\nPreparing quantum state |0101⟩...\")\n",
                "state_circuit = QuantumCircuit(4)\n",
                "# state_circuit.x([0,2])  # This would prepare |1010⟩\n",
                "state_circuit.x([1,3])    # This prepares |0101⟩\n",
                "\n",
                "# Display information about the H2 calculation\n",
                "display(Markdown('''\n",
                "**H2 Hamiltonian Evaluation:**\n",
                "- We loaded molecular integrals for H2 at a bond distance of 0.75 Å\n",
                "- Using Jordan-Wigner transformation, we mapped the fermionic Hamiltonian to a qubit Hamiltonian\n",
                "- We prepared the |0101⟩ state, which corresponds to a specific electron configuration\n",
                "- The measured energy should be approximately -1.82 Ha for the electronic energy\n",
                "- To get the total molecular energy, we add the nuclear repulsion energy\n",
                "'''))\n",
                "\n",
                "print(\"State preparation circuit:\")\n",
                "state_circuit.draw('mpl')\n",
                "\n",
                "# Estimate the energy of the H2 molecule in this state\n",
                "print(\"\\nEstimating H2 Hamiltonian expectation value...\")\n",
                "expectation_values = estimate_observable_expectation_value(qubit_hamiltonian, state_circuit, backend)\n",
                "\n",
                "# Display results\n",
                "print(f\"\\nEnergy of state |0101⟩: {expectation_values.real:.6f} Ha\")\n",
                "print(f\"Total molecular energy (electronic + nuclear): {expectation_values.real + nuc_eneg:.6f} Ha\")"
            ]
        },
        {
            "attachments": {},
            "cell_type": "markdown",
            "metadata": {},
            "source": [
                "# Variationnal Quantum Eigensolver\n",
                "\n",
                "In a final step we need to implement a solver that will explore the quantum state space to try to find the quantum state which minimize the energy.\n",
                "\n",
                "Like any minimzation process this solver will need a couple of ingredients :\n",
                "- A function to minimize : we will compute the expectation of the Hamiltonian.\n",
                "- A method : an algorithm that generaly takes in a function and a set of starting parameters and returns the best guess for the optimal parameters that correspond to the minimal value of the function to minimize.\n",
                "- A set of starting parameters."
            ]
        },
        {
            "cell_type": "markdown",
            "metadata": {},
            "source": [
                "### Cost function\n",
                "\n",
                "The cost function need to compute the energy for a given set of parameter.\n",
                "\n",
                "\\begin{align*}\n",
                "    E_0 \n",
                "    = \\min_{\\boldsymbol{\\theta}} E(\\boldsymbol{\\theta}) \n",
                "    = \\min_{\\boldsymbol{\\theta}} \\langle \\psi(\\boldsymbol{\\theta}) | \\hat{H} | \\psi(\\boldsymbol{\\theta}) \\rangle\n",
                "\\end{align*}\n",
                "\n",
                "This function could be defined in the following way, provided that the `ansatz_circuit` and the `hamiltonian` are alreayd defined."
            ]
        },
        {
            "cell_type": "code",
            "execution_count": 41,
            "metadata": {},
            "outputs": [
                {
                    "data": {
                        "text/markdown": [
                            "\n",
                            "**Cost function explanation:**\n",
                            "- This function evaluates the energy for a specific set of parameter values\n",
                            "- For each parameter set in the optimization process:\n",
                            "  1. We assign the parameters to our ansatz circuit\n",
                            "  2. We simulate/run the circuit to prepare the quantum state\n",
                            "  3. We estimate the expectation value of our Hamiltonian\n",
                            "- The result is the energy (real part only) which we want to minimize\n"
                        ],
                        "text/plain": [
                            "<IPython.core.display.Markdown object>"
                        ]
                    },
                    "metadata": {},
                    "output_type": "display_data"
                }
            ],
            "source": [
                "def cost_function(params):\n",
                "    \n",
                "    print(f\"Evaluating cost function at parameters: {params}\")\n",
                "    \n",
                "    # Create the quantum state for these specific parameters\n",
                "    print(\"Creating parametrized quantum circuit...\")\n",
                "    state_circuit = ansatz_circuit.assign_parameters(params)\n",
                "    \n",
                "    # Calculate the expectation value of the Hamiltonian for this state\n",
                "    print(\"Estimating Hamiltonian expectation value...\")\n",
                "    hamiltonian_expectation_value = estimate_observable_expectation_value(hamiltonian, state_circuit, backend)\n",
                "    \n",
                "    print(f\"Energy at these parameters: {hamiltonian_expectation_value.real:.6f} Ha\")\n",
                "    return hamiltonian_expectation_value.real\n",
                "\n",
                "display(Markdown('''\n",
                "**Cost function explanation:**\n",
                "- This function evaluates the energy for a specific set of parameter values\n",
                "- For each parameter set in the optimization process:\n",
                "  1. We assign the parameters to our ansatz circuit\n",
                "  2. We simulate/run the circuit to prepare the quantum state\n",
                "  3. We estimate the expectation value of our Hamiltonian\n",
                "- The result is the energy (real part only) which we want to minimize\n",
                "'''))"
            ]
        },
        {
            "cell_type": "code",
            "execution_count": 42,
            "metadata": {},
            "outputs": [
                {
                    "data": {
                        "text/markdown": [
                            "\n",
                            "**Optimization Settings Explanation:**\n",
                            "- **method='SLSQP'**: Sequential Least Squares Programming algorithm, suitable for VQE\n",
                            "- **maxiter=5**: Maximum number of iterations (kept small for demonstration)\n",
                            "- **eps=0.1**: Step size for numerical gradient estimation (appropriate for angular parameters)\n",
                            "- **ftol=1e-4**: Tolerance for convergence (chemical accuracy is around 1 milli-Hartree)\n",
                            "- **disp=True** and **iprint=2**: Display detailed information during optimization\n",
                            "\n",
                            "The optimizer will systematically adjust the circuit parameters to find the\n",
                            "quantum state with the lowest energy expectation value.\n"
                        ],
                        "text/plain": [
                            "<IPython.core.display.Markdown object>"
                        ]
                    },
                    "metadata": {},
                    "output_type": "display_data"
                }
            ],
            "source": [
                "from scipy.optimize import minimize\n",
                "\n",
                "# Create a wrapper for the SLSQP optimizer with specific settings\n",
                "minimizer = lambda cost_fun, starting_params : minimize(\n",
                "    cost_fun,\n",
                "    starting_params,\n",
                "    method = 'SLSQP', \n",
                "    options = {'maxiter' : 5,'eps' : 1e-1, 'ftol' : 1e-4, 'disp' : True, 'iprint' : 2})\n",
                "\n",
                "display(Markdown('''\n",
                "**Optimization Settings Explanation:**\n",
                "- **method='SLSQP'**: Sequential Least Squares Programming algorithm, suitable for VQE\n",
                "- **maxiter=5**: Maximum number of iterations (kept small for demonstration)\n",
                "- **eps=0.1**: Step size for numerical gradient estimation (appropriate for angular parameters)\n",
                "- **ftol=1e-4**: Tolerance for convergence (chemical accuracy is around 1 milli-Hartree)\n",
                "- **disp=True** and **iprint=2**: Display detailed information during optimization\n",
                "\n",
                "The optimizer will systematically adjust the circuit parameters to find the\n",
                "quantum state with the lowest energy expectation value.\n",
                "'''))"
            ]
        },
        {
            "cell_type": "code",
            "execution_count": 43,
            "metadata": {},
            "outputs": [
                {
                    "name": "stdout",
                    "output_type": "stream",
                    "text": [
                        "Creating variational ansatz circuit for H2...\n"
                    ]
                },
                {
                    "data": {
                        "text/markdown": [
                            "\n",
                            "**VQE Optimization Process:**\n",
                            "- Starting with our parameterized H2 circuit, VQE will find the optimal parameter values\n",
                            "- The optimization uses a classical optimizer (SLSQP) combined with quantum energy estimation\n",
                            "- At each step, we'll evaluate the energy for different parameter values\n",
                            "- The algorithm will converge to the parameter values that minimize energy\n"
                        ],
                        "text/plain": [
                            "<IPython.core.display.Markdown object>"
                        ]
                    },
                    "metadata": {},
                    "output_type": "display_data"
                },
                {
                    "name": "stdout",
                    "output_type": "stream",
                    "text": [
                        "Ansatz circuit structure:\n",
                        "\n",
                        "Circuit parameters: ParameterView([Parameter(theta)])\n",
                        "\n",
                        "Starting VQE optimization process...\n",
                        "This will iteratively adjust circuit parameters to minimize energy\n",
                        "  NIT    FC           OBJFUN            GNORM\n",
                        "  NIT    FC           OBJFUN            GNORM\n",
                        "    1     3    -3.160275E-01     2.012508E-01\n",
                        "    1     3    -3.160275E-01     2.012508E-01\n",
                        "    2     5     7.047957E-02     5.068390E-01\n",
                        "    2     5     7.047957E-02     5.068390E-01\n",
                        "    3     8    -8.397321E-01     7.260528E-02\n",
                        "    3     8    -8.397321E-01     7.260528E-02\n",
                        "    4    10    -4.566284E-01     2.259632E-01\n",
                        "    4    10    -4.566284E-01     2.259632E-01\n",
                        "    5    13    -8.533784E-01     8.536095E-02\n",
                        "Iteration limit reached    (Exit mode 9)\n",
                        "            Current function value: -0.8533783823267335\n",
                        "            Iterations: 5\n",
                        "            Function evaluations: 13\n",
                        "            Gradient evaluations: 5\n",
                        "\n",
                        "Optimization complete!\n",
                        "Optimal parameters: [1.58568222]\n",
                        "Ground state energy: -0.853378 Ha\n",
                        "\n",
                        "Optimal circuit:\n",
                        "    5    13    -8.533784E-01     8.536095E-02\n",
                        "Iteration limit reached    (Exit mode 9)\n",
                        "            Current function value: -0.8533783823267335\n",
                        "            Iterations: 5\n",
                        "            Function evaluations: 13\n",
                        "            Gradient evaluations: 5\n",
                        "\n",
                        "Optimization complete!\n",
                        "Optimal parameters: [1.58568222]\n",
                        "Ground state energy: -0.853378 Ha\n",
                        "\n",
                        "Optimal circuit:\n"
                    ]
                },
                {
                    "data": {
                        "image/png": "[encoded data removed]",
                        "text/plain": [
                            "<Figure size 371.107x367.889 with 1 Axes>"
                        ]
                    },
                    "execution_count": 43,
                    "metadata": {},
                    "output_type": "execute_result"
                }
            ],
            "source": [
                "from quantum_chemistry.vqe import h2_ansatz_circuit, minimize_expectation_value\n",
                "\n",
                "# Get the variational form circuit for H2\n",
                "print(\"Creating variational ansatz circuit for H2...\")\n",
                "ansatz_circuit = h2_ansatz_circuit()\n",
                "\n",
                "# Display information about VQE\n",
                "display(Markdown(f'''\n",
                "**VQE Optimization Process:**\n",
                "- Starting with our parameterized H2 circuit, VQE will find the optimal parameter values\n",
                "- The optimization uses a classical optimizer (SLSQP) combined with quantum energy estimation\n",
                "- At each step, we'll evaluate the energy for different parameter values\n",
                "- The algorithm will converge to the parameter values that minimize energy\n",
                "'''))\n",
                "\n",
                "print(\"Ansatz circuit structure:\")\n",
                "ansatz_circuit.draw('mpl')\n",
                "\n",
                "# Print information about the parameters in the circuit\n",
                "print(f\"\\nCircuit parameters: {ansatz_circuit.parameters}\")\n",
                "\n",
                "# Run the VQE optimization process\n",
                "print(\"\\nStarting VQE optimization process...\")\n",
                "print(\"This will iteratively adjust circuit parameters to minimize energy\")\n",
                "minimization_result = minimize_expectation_value(qubit_hamiltonian, ansatz_circuit, backend, minimizer)\n",
                "\n",
                "# Extract and display results\n",
                "opt_params = minimization_result.x\n",
                "opt_value = minimization_result.fun\n",
                "print(\"\\nOptimization complete!\")\n",
                "print(f\"Optimal parameters: {opt_params}\")\n",
                "print(f\"Ground state energy: {opt_value:.6f} Ha\")\n",
                "\n",
                "# Create the optimal circuit for visualization\n",
                "optimal_circuit = ansatz_circuit.assign_parameters(opt_params)\n",
                "print(\"\\nOptimal circuit:\")\n",
                "optimal_circuit.draw('mpl')"
            ]
        },
        {
            "cell_type": "code",
            "execution_count": 44,
            "metadata": {},
            "outputs": [
                {
                    "name": "stdout",
                    "output_type": "stream",
                    "text": [
                        "Ground state parameter estimate (VQE):  [1.58568222]\n",
                        "Ground state electronic energy (VQE):  -0.8533783823267335 Ha\n",
                        "Ground state molecular energy (VQE):  -0.14780876776673346 Ha\n"
                    ]
                },
                {
                    "data": {
                        "text/markdown": [
                            "\n",
                            "**VQE Results Summary:**\n",
                            "- **Optimal parameter value:** 1.585682\n",
                            "- **Electronic energy:** -0.853378 Ha (without nuclear repulsion)\n",
                            "- **Total molecular energy:** -0.147809 Ha (including nuclear repulsion)\n",
                            "\n",
                            "The electronic energy represents the energy of the electrons in the molecule,\n",
                            "while the total molecular energy includes both electronic energy and nuclear repulsion.\n",
                            "This total energy is what would be measured experimentally and used to calculate\n",
                            "properties like bond strength and molecular stability.\n"
                        ],
                        "text/plain": [
                            "<IPython.core.display.Markdown object>"
                        ]
                    },
                    "metadata": {},
                    "output_type": "display_data"
                }
            ],
            "source": [
                "# Display final VQE results with detailed labels\n",
                "print('Ground state parameter estimate (VQE): ', opt_params)\n",
                "print('Ground state electronic energy (VQE): ', opt_value, 'Ha')\n",
                "print('Ground state molecular energy (VQE): ', opt_value + nuc_eneg, 'Ha')\n",
                "\n",
                "display(Markdown(f'''\n",
                "**VQE Results Summary:**\n",
                "- **Optimal parameter value:** {opt_params[0]:.6f}\n",
                "- **Electronic energy:** {opt_value:.6f} Ha (without nuclear repulsion)\n",
                "- **Total molecular energy:** {opt_value + nuc_eneg:.6f} Ha (including nuclear repulsion)\n",
                "\n",
                "The electronic energy represents the energy of the electrons in the molecule,\n",
                "while the total molecular energy includes both electronic energy and nuclear repulsion.\n",
                "This total energy is what would be measured experimentally and used to calculate\n",
                "properties like bond strength and molecular stability.\n",
                "'''))"
            ]
        },
        {
            "cell_type": "code",
            "execution_count": 45,
            "metadata": {},
            "outputs": [
                {
                    "name": "stdout",
                    "output_type": "stream",
                    "text": [
                        "Ground state position estimate (vqe) :  [1.58568222]\n",
                        "Ground state energy estimate (electronic, vqe) :  -0.8533783823267335\n",
                        "Ground state energy estimate (molecular, vqe) :  -0.14780876776673346\n"
                    ]
                }
            ],
            "source": [
                "print('Ground state position estimate (vqe) : ', opt_params)\n",
                "print('Ground state energy estimate (electronic, vqe) : ', opt_value)\n",
                "print('Ground state energy estimate (molecular, vqe) : ', opt_value + nuc_eneg)"
            ]
        },
        {
            "cell_type": "markdown",
            "metadata": {},
            "source": [
                "## Exact Solution\n",
                "\n",
                "If you want to compare the value you get with the VQE algorithm it would be nice to have the exact value. If you were able to implement the `to_matrix()` method for `PauliString` and `Operator` then you can find the exact value of the ground state. All you need is to diagonalise the matrix reprensenting the whole Hamiltonian and find the lowest eigenvalue! Obviously this will not be possible to do for very large systems."
            ]
        },
        {
            "cell_type": "code",
            "execution_count": 46,
            "metadata": {},
            "outputs": [
                {
                    "name": "stdout",
                    "output_type": "stream",
                    "text": [
                        "Converting qubit Hamiltonian to matrix form...\n",
                        "Matrix size: 16×16\n",
                        "\n",
                        "Finding exact eigenvalues and eigenvectors...\n",
                        "Sorting results by energy...\n",
                        "\n",
                        "All energy levels (eigenvalues) in Ha:\n",
                        "Energy level 0: -1.842687 Ha\n",
                        "Energy level 1: -1.248352 Ha\n",
                        "Energy level 2: -1.248352 Ha\n",
                        "Energy level 3: -1.248352 Ha\n",
                        "Energy level 4: -1.247285 Ha\n",
                        "Energy level 5: -1.247285 Ha\n",
                        "Energy level 6: -1.160811 Ha\n",
                        "Energy level 7: -1.160811 Ha\n",
                        "Energy level 8: -0.884809 Ha\n",
                        "Energy level 9: -0.481273 Ha\n",
                        "Energy level 10: -0.481273 Ha\n",
                        "Energy level 11: -0.371832 Ha\n",
                        "Energy level 12: -0.371832 Ha\n",
                        "Energy level 13: -0.245765 Ha\n",
                        "Energy level 14: -0.000000 Ha\n",
                        "Energy level 15: 0.195914 Ha\n",
                        "\n",
                        "Exact solution results:\n",
                        "Ground state vector: [ 0.00000000e+00+0.j  0.00000000e+00+0.j  0.00000000e+00+0.j\n",
                        "  0.00000000e+00+0.j  0.00000000e+00+0.j  1.14580851e-01+0.j\n",
                        " -3.33066907e-16+0.j  0.00000000e+00+0.j  0.00000000e+00+0.j\n",
                        "  7.04295392e-17+0.j -9.93413926e-01+0.j  0.00000000e+00+0.j\n",
                        "  0.00000000e+00+0.j  0.00000000e+00+0.j  0.00000000e+00+0.j\n",
                        "  0.00000000e+00+0.j]\n",
                        "Ground state electronic energy (exact): -1.842687 Ha\n",
                        "Ground state molecular energy (exact): -1.137117 Ha\n",
                        "\n",
                        "Comparison of VQE vs Exact solution:\n",
                        "VQE electronic energy:  -0.853378 Ha\n",
                        "Exact electronic energy: -1.842687 Ha\n",
                        "Difference: 0.989308 Ha\n"
                    ]
                },
                {
                    "data": {
                        "text/markdown": [
                            "\n",
                            "**Exact Solution Explanation:**\n",
                            "- We converted the qubit Hamiltonian to a 16×16 matrix\n",
                            "- Using linear algebra, we found all eigenvalues (energy levels) and eigenvectors (states)\n",
                            "- The ground state energy is -1.842687 Ha (electronic)\n",
                            "- The total molecular energy is -1.137117 Ha\n",
                            "- Difference between VQE and exact solution: 0.989308 Ha\n",
                            "\n",
                            "This exact diagonalization approach works for small molecules but becomes\n",
                            "computationally intractable for larger systems, which is why quantum algorithms\n",
                            "like VQE are important for quantum chemistry.\n"
                        ],
                        "text/plain": [
                            "<IPython.core.display.Markdown object>"
                        ]
                    },
                    "metadata": {},
                    "output_type": "display_data"
                }
            ],
            "source": [
                "import numpy as np\n",
                "\n",
                "# Convert the Hamiltonian to matrix form for exact diagonalization\n",
                "print(\"Converting qubit Hamiltonian to matrix form...\")\n",
                "hamiltonian_matrix = qubit_hamiltonian.to_matrix()\n",
                "print(f\"Matrix size: {hamiltonian_matrix.shape[0]}×{hamiltonian_matrix.shape[1]}\")\n",
                "\n",
                "# Find eigenvalues and eigenvectors (exact solution)\n",
                "print(\"\\nFinding exact eigenvalues and eigenvectors...\")\n",
                "eig_values, eig_vectors = np.linalg.eigh(hamiltonian_matrix)\n",
                "\n",
                "# Sort eigenvalues and eigenvectors in ascending order\n",
                "print(\"Sorting results by energy...\")\n",
                "eig_order = np.argsort(eig_values)\n",
                "eig_values = eig_values[eig_order]\n",
                "eig_vectors = eig_vectors[:,eig_order]\n",
                "\n",
                "# Extract ground state information\n",
                "ground_state_value, ground_state_vector = eig_values[0], eig_vectors[:,0]\n",
                "\n",
                "# Print all eigenvalues (energy levels)\n",
                "print(\"\\nAll energy levels (eigenvalues) in Ha:\")\n",
                "for i, val in enumerate(eig_values):\n",
                "    print(f\"Energy level {i}: {val:.6f} Ha\")\n",
                "\n",
                "# Print exact ground state results\n",
                "print(\"\\nExact solution results:\")\n",
                "print(f\"Ground state vector: {ground_state_vector}\")\n",
                "print(f\"Ground state electronic energy (exact): {ground_state_value:.6f} Ha\")\n",
                "print(f\"Ground state molecular energy (exact): {ground_state_value + nuc_eneg:.6f} Ha\")\n",
                "\n",
                "# Compare VQE and exact results\n",
                "print(\"\\nComparison of VQE vs Exact solution:\")\n",
                "print(f\"VQE electronic energy:  {opt_value:.6f} Ha\")\n",
                "print(f\"Exact electronic energy: {ground_state_value:.6f} Ha\")\n",
                "print(f\"Difference: {abs(opt_value - ground_state_value):.6f} Ha\")\n",
                "\n",
                "display(Markdown(f'''\n",
                "**Exact Solution Explanation:**\n",
                "- We converted the qubit Hamiltonian to a {hamiltonian_matrix.shape[0]}×{hamiltonian_matrix.shape[1]} matrix\n",
                "- Using linear algebra, we found all eigenvalues (energy levels) and eigenvectors (states)\n",
                "- The ground state energy is {ground_state_value:.6f} Ha (electronic)\n",
                "- The total molecular energy is {ground_state_value + nuc_eneg:.6f} Ha\n",
                "- Difference between VQE and exact solution: {abs(opt_value - ground_state_value):.6f} Ha\n",
                "\n",
                "This exact diagonalization approach works for small molecules but becomes\n",
                "computationally intractable for larger systems, which is why quantum algorithms\n",
                "like VQE are important for quantum chemistry.\n",
                "'''))"
            ]
        },
        {
            "cell_type": "code",
            "execution_count": 47,
            "metadata": {},
            "outputs": [],
            "source": [
                "import matplotlib.pyplot as plt"
            ]
        },
        {
            "cell_type": "code",
            "execution_count": 48,
            "metadata": {},
            "outputs": [
                {
                    "data": {
                        "text/markdown": [
                            "\n",
                            "**Ground State Wavefunction Visualization:**\n",
                            "- Each bar represents the amplitude of a computational basis state in the ground state\n",
                            "- The x-axis shows the binary representation of each basis state (e.g., '0101')\n",
                            "- Red bars indicate positive coefficients, blue bars indicate negative coefficients\n",
                            "- The dominant states tell us about the electronic configuration in the ground state\n",
                            "- In the H2 ground state, you should observe significant contributions from a small number of basis states\n"
                        ],
                        "text/plain": [
                            "<IPython.core.display.Markdown object>"
                        ]
                    },
                    "metadata": {},
                    "output_type": "display_data"
                },
                {
                    "data": {
                        "image/png": "[encoded data removed]",
                        "text/plain": [
                            "<Figure size 1000x600 with 1 Axes>"
                        ]
                    },
                    "metadata": {},
                    "output_type": "display_data"
                }
            ],
            "source": [
                "# Create a bar plot of the ground state wavefunction components\n",
                "fig, ax = plt.subplots(1, 1, figsize=(10, 6))\n",
                "\n",
                "# Normalize the sign of the vector for better visualization\n",
                "i_max = np.argmax(np.abs(ground_state_vector))\n",
                "state = ground_state_vector * np.sign(ground_state_vector[i_max])\n",
                "\n",
                "# Plot the amplitude of each basis state\n",
                "ax.bar(range(len(state)), np.abs(state), \n",
                "       color=(np.real(state) > 0).choose(['r','b']),\n",
                "       alpha=0.7)\n",
                "\n",
                "# Label the x-axis with binary representations of basis states\n",
                "plt.xticks(range(len(state)), [f\"{i:04b}\" for i in range(len(state))], \n",
                "           size='small', rotation=60)\n",
                "\n",
                "# Add labels and title\n",
                "plt.xlabel('Computational Basis States')\n",
                "plt.ylabel('Amplitude')\n",
                "plt.title('Exact Ground State Wavefunction of H2')\n",
                "\n",
                "# Add a grid for better readability\n",
                "plt.grid(axis='y', linestyle='--', alpha=0.7)\n",
                "\n",
                "# Adjust layout and display\n",
                "plt.tight_layout()\n",
                "\n",
                "display(Markdown('''\n",
                "**Ground State Wavefunction Visualization:**\n",
                "- Each bar represents the amplitude of a computational basis state in the ground state\n",
                "- The x-axis shows the binary representation of each basis state (e.g., '0101')\n",
                "- Red bars indicate positive coefficients, blue bars indicate negative coefficients\n",
                "- The dominant states tell us about the electronic configuration in the ground state\n",
                "- In the H2 ground state, you should observe significant contributions from a small number of basis states\n",
                "'''))"
            ]
        },
        {
            "cell_type": "markdown",
            "metadata": {},
            "source": [
                "Notebook by **Maxime Dion** <maxime.dion@usherbrooke.ca><br>\n",
                "For the QSciTech-QuantumBC virtual workshop on gate-based quantum computing"
            ]
        }
    ],
    "metadata": {
        "kernelspec": {
            "display_name": ".venv",
            "language": "python",
            "name": "python3"
        },
        "language_info": {
            "codemirror_mode": {
                "name": "ipython",
                "version": 3
            },
            "file_extension": ".py",
            "mimetype": "text/x-python",
            "name": "python",
            "nbconvert_exporter": "python",
            "pygments_lexer": "ipython3",
            "version": "3.13.3"
        },
        "toc": {
            "base_numbering": 1,
            "nav_menu": {},
            "number_sections": true,
            "sideBar": true,
            "skip_h1_title": false,
            "title_cell": "Table of Contents",
            "title_sidebar": "Contents",
            "toc_cell": false,
            "toc_position": {},
            "toc_section_display": true,
            "toc_window_display": false
        }
    },
    "nbformat": 4,
    "nbformat_minor": 2
}
