{
 "cells": [
  {
   "cell_type": "code",
   "execution_count": 1,
   "metadata": {},
   "outputs": [
    {
     "name": "stdout",
     "output_type": "stream",
     "text": [
      "Obtaining file:///C:/Users/hunkb/Downloads/quantum-chemistry-workshop-bell-state\n",
      "  Installing build dependencies: started\n",
      "  Installing build dependencies: finished with status 'done'\n",
      "  Checking if build backend supports build_editable: started\n",
      "  Checking if build backend supports build_editable: finished with status 'done'\n",
      "  Getting requirements to build editable: started\n",
      "  Getting requirements to build editable: finished with status 'done'\n",
      "  Preparing editable metadata (pyproject.toml): started\n",
      "  Preparing editable metadata (pyproject.toml): finished with status 'done'\n",
      "Requirement already satisfied: numpy==2.2.5 in c:\\users\\hunkb\\downloads\\quantum-chemistry-workshop-bell-state\\.venv\\lib\\site-packages (from quantum_chemistry==0.0.1) (2.2.5)\n",
      "Requirement already satisfied: scipy==1.15.2 in c:\\users\\hunkb\\downloads\\quantum-chemistry-workshop-bell-state\\.venv\\lib\\site-packages (from quantum_chemistry==0.0.1) (1.15.2)\n",
      "Requirement already satisfied: qiskit==2.0.0 in c:\\users\\hunkb\\downloads\\quantum-chemistry-workshop-bell-state\\.venv\\lib\\site-packages (from quantum_chemistry==0.0.1) (2.0.0)\n",
      "Requirement already satisfied: qiskit_aer==0.17.0 in c:\\users\\hunkb\\downloads\\quantum-chemistry-workshop-bell-state\\.venv\\lib\\site-packages (from quantum_chemistry==0.0.1) (0.17.0)\n",
      "Requirement already satisfied: qiskit_ibm_runtime==0.38.0 in c:\\users\\hunkb\\downloads\\quantum-chemistry-workshop-bell-state\\.venv\\lib\\site-packages (from quantum_chemistry==0.0.1) (0.38.0)\n",
      "Requirement already satisfied: matplotlib==3.10.1 in c:\\users\\hunkb\\downloads\\quantum-chemistry-workshop-bell-state\\.venv\\lib\\site-packages (from quantum_chemistry==0.0.1) (3.10.1)\n",
      "Requirement already satisfied: ipykernel==6.29.5 in c:\\users\\hunkb\\downloads\\quantum-chemistry-workshop-bell-state\\.venv\\lib\\site-packages (from quantum_chemistry==0.0.1) (6.29.5)\n",
      "Requirement already satisfied: pytest==8.3.5 in c:\\users\\hunkb\\downloads\\quantum-chemistry-workshop-bell-state\\.venv\\lib\\site-packages (from quantum_chemistry==0.0.1) (8.3.5)\n",
      "Requirement already satisfied: pylatexenc==2.10 in c:\\users\\hunkb\\downloads\\quantum-chemistry-workshop-bell-state\\.venv\\lib\\site-packages (from quantum_chemistry==0.0.1) (2.10)\n",
      "Requirement already satisfied: comm>=0.1.1 in c:\\users\\hunkb\\downloads\\quantum-chemistry-workshop-bell-state\\.venv\\lib\\site-packages (from ipykernel==6.29.5->quantum_chemistry==0.0.1) (0.2.2)\n",
      "Requirement already satisfied: debugpy>=1.6.5 in c:\\users\\hunkb\\downloads\\quantum-chemistry-workshop-bell-state\\.venv\\lib\\site-packages (from ipykernel==6.29.5->quantum_chemistry==0.0.1) (1.8.14)\n",
      "Requirement already satisfied: ipython>=7.23.1 in c:\\users\\hunkb\\downloads\\quantum-chemistry-workshop-bell-state\\.venv\\lib\\site-packages (from ipykernel==6.29.5->quantum_chemistry==0.0.1) (9.2.0)\n",
      "Requirement already satisfied: jupyter-client>=6.1.12 in c:\\users\\hunkb\\downloads\\quantum-chemistry-workshop-bell-state\\.venv\\lib\\site-packages (from ipykernel==6.29.5->quantum_chemistry==0.0.1) (8.6.3)\n",
      "Requirement already satisfied: jupyter-core!=5.0.*,>=4.12 in c:\\users\\hunkb\\downloads\\quantum-chemistry-workshop-bell-state\\.venv\\lib\\site-packages (from ipykernel==6.29.5->quantum_chemistry==0.0.1) (5.7.2)\n",
      "Requirement already satisfied: matplotlib-inline>=0.1 in c:\\users\\hunkb\\downloads\\quantum-chemistry-workshop-bell-state\\.venv\\lib\\site-packages (from ipykernel==6.29.5->quantum_chemistry==0.0.1) (0.1.7)\n",
      "Requirement already satisfied: nest-asyncio in c:\\users\\hunkb\\downloads\\quantum-chemistry-workshop-bell-state\\.venv\\lib\\site-packages (from ipykernel==6.29.5->quantum_chemistry==0.0.1) (1.6.0)\n",
      "Requirement already satisfied: packaging in c:\\users\\hunkb\\downloads\\quantum-chemistry-workshop-bell-state\\.venv\\lib\\site-packages (from ipykernel==6.29.5->quantum_chemistry==0.0.1) (25.0)\n",
      "Requirement already satisfied: psutil in c:\\users\\hunkb\\downloads\\quantum-chemistry-workshop-bell-state\\.venv\\lib\\site-packages (from ipykernel==6.29.5->quantum_chemistry==0.0.1) (7.0.0)\n",
      "Requirement already satisfied: pyzmq>=24 in c:\\users\\hunkb\\downloads\\quantum-chemistry-workshop-bell-state\\.venv\\lib\\site-packages (from ipykernel==6.29.5->quantum_chemistry==0.0.1) (26.4.0)\n",
      "Requirement already satisfied: tornado>=6.1 in c:\\users\\hunkb\\downloads\\quantum-chemistry-workshop-bell-state\\.venv\\lib\\site-packages (from ipykernel==6.29.5->quantum_chemistry==0.0.1) (6.4.2)\n",
      "Requirement already satisfied: traitlets>=5.4.0 in c:\\users\\hunkb\\downloads\\quantum-chemistry-workshop-bell-state\\.venv\\lib\\site-packages (from ipykernel==6.29.5->quantum_chemistry==0.0.1) (5.14.3)\n",
      "Requirement already satisfied: contourpy>=1.0.1 in c:\\users\\hunkb\\downloads\\quantum-chemistry-workshop-bell-state\\.venv\\lib\\site-packages (from matplotlib==3.10.1->quantum_chemistry==0.0.1) (1.3.2)\n",
      "Requirement already satisfied: cycler>=0.10 in c:\\users\\hunkb\\downloads\\quantum-chemistry-workshop-bell-state\\.venv\\lib\\site-packages (from matplotlib==3.10.1->quantum_chemistry==0.0.1) (0.12.1)\n",
      "Requirement already satisfied: fonttools>=4.22.0 in c:\\users\\hunkb\\downloads\\quantum-chemistry-workshop-bell-state\\.venv\\lib\\site-packages (from matplotlib==3.10.1->quantum_chemistry==0.0.1) (4.57.0)\n",
      "Requirement already satisfied: kiwisolver>=1.3.1 in c:\\users\\hunkb\\downloads\\quantum-chemistry-workshop-bell-state\\.venv\\lib\\site-packages (from matplotlib==3.10.1->quantum_chemistry==0.0.1) (1.4.8)\n",
      "Requirement already satisfied: pillow>=8 in c:\\users\\hunkb\\downloads\\quantum-chemistry-workshop-bell-state\\.venv\\lib\\site-packages (from matplotlib==3.10.1->quantum_chemistry==0.0.1) (11.2.1)\n",
      "Requirement already satisfied: pyparsing>=2.3.1 in c:\\users\\hunkb\\downloads\\quantum-chemistry-workshop-bell-state\\.venv\\lib\\site-packages (from matplotlib==3.10.1->quantum_chemistry==0.0.1) (3.2.3)\n",
      "Requirement already satisfied: python-dateutil>=2.7 in c:\\users\\hunkb\\downloads\\quantum-chemistry-workshop-bell-state\\.venv\\lib\\site-packages (from matplotlib==3.10.1->quantum_chemistry==0.0.1) (2.9.0.post0)\n",
      "Requirement already satisfied: colorama in c:\\users\\hunkb\\downloads\\quantum-chemistry-workshop-bell-state\\.venv\\lib\\site-packages (from pytest==8.3.5->quantum_chemistry==0.0.1) (0.4.6)\n",
      "Requirement already satisfied: iniconfig in c:\\users\\hunkb\\downloads\\quantum-chemistry-workshop-bell-state\\.venv\\lib\\site-packages (from pytest==8.3.5->quantum_chemistry==0.0.1) (2.1.0)\n",
      "Requirement already satisfied: pluggy<2,>=1.5 in c:\\users\\hunkb\\downloads\\quantum-chemistry-workshop-bell-state\\.venv\\lib\\site-packages (from pytest==8.3.5->quantum_chemistry==0.0.1) (1.5.0)\n",
      "Requirement already satisfied: rustworkx>=0.15.0 in c:\\users\\hunkb\\downloads\\quantum-chemistry-workshop-bell-state\\.venv\\lib\\site-packages (from qiskit==2.0.0->quantum_chemistry==0.0.1) (0.16.0)\n",
      "Requirement already satisfied: sympy>=1.3 in c:\\users\\hunkb\\downloads\\quantum-chemistry-workshop-bell-state\\.venv\\lib\\site-packages (from qiskit==2.0.0->quantum_chemistry==0.0.1) (1.14.0)\n",
      "Requirement already satisfied: dill>=0.3 in c:\\users\\hunkb\\downloads\\quantum-chemistry-workshop-bell-state\\.venv\\lib\\site-packages (from qiskit==2.0.0->quantum_chemistry==0.0.1) (0.4.0)\n",
      "Requirement already satisfied: stevedore>=3.0.0 in c:\\users\\hunkb\\downloads\\quantum-chemistry-workshop-bell-state\\.venv\\lib\\site-packages (from qiskit==2.0.0->quantum_chemistry==0.0.1) (5.4.1)\n",
      "Requirement already satisfied: typing-extensions in c:\\users\\hunkb\\downloads\\quantum-chemistry-workshop-bell-state\\.venv\\lib\\site-packages (from qiskit==2.0.0->quantum_chemistry==0.0.1) (4.13.2)\n",
      "Requirement already satisfied: symengine<0.14,>=0.11 in c:\\users\\hunkb\\downloads\\quantum-chemistry-workshop-bell-state\\.venv\\lib\\site-packages (from qiskit==2.0.0->quantum_chemistry==0.0.1) (0.13.0)\n",
      "Requirement already satisfied: requests>=2.19 in c:\\users\\hunkb\\downloads\\quantum-chemistry-workshop-bell-state\\.venv\\lib\\site-packages (from qiskit_ibm_runtime==0.38.0->quantum_chemistry==0.0.1) (2.32.3)\n",
      "Requirement already satisfied: requests-ntlm>=1.1.0 in c:\\users\\hunkb\\downloads\\quantum-chemistry-workshop-bell-state\\.venv\\lib\\site-packages (from qiskit_ibm_runtime==0.38.0->quantum_chemistry==0.0.1) (1.3.0)\n",
      "Requirement already satisfied: urllib3>=1.21.1 in c:\\users\\hunkb\\downloads\\quantum-chemistry-workshop-bell-state\\.venv\\lib\\site-packages (from qiskit_ibm_runtime==0.38.0->quantum_chemistry==0.0.1) (2.4.0)\n",
      "Requirement already satisfied: ibm-platform-services>=0.22.6 in c:\\users\\hunkb\\downloads\\quantum-chemistry-workshop-bell-state\\.venv\\lib\\site-packages (from qiskit_ibm_runtime==0.38.0->quantum_chemistry==0.0.1) (0.64.0)\n",
      "Requirement already satisfied: pydantic<2.10,>=2.5.0 in c:\\users\\hunkb\\downloads\\quantum-chemistry-workshop-bell-state\\.venv\\lib\\site-packages (from qiskit_ibm_runtime==0.38.0->quantum_chemistry==0.0.1) (2.9.2)\n",
      "Requirement already satisfied: annotated-types>=0.6.0 in c:\\users\\hunkb\\downloads\\quantum-chemistry-workshop-bell-state\\.venv\\lib\\site-packages (from pydantic<2.10,>=2.5.0->qiskit_ibm_runtime==0.38.0->quantum_chemistry==0.0.1) (0.7.0)\n",
      "Requirement already satisfied: pydantic-core==2.23.4 in c:\\users\\hunkb\\downloads\\quantum-chemistry-workshop-bell-state\\.venv\\lib\\site-packages (from pydantic<2.10,>=2.5.0->qiskit_ibm_runtime==0.38.0->quantum_chemistry==0.0.1) (2.23.4)\n",
      "Requirement already satisfied: ibm_cloud_sdk_core<4.0.0,>=3.22.1 in c:\\users\\hunkb\\downloads\\quantum-chemistry-workshop-bell-state\\.venv\\lib\\site-packages (from ibm-platform-services>=0.22.6->qiskit_ibm_runtime==0.38.0->quantum_chemistry==0.0.1) (3.23.0)\n",
      "Requirement already satisfied: PyJWT<3.0.0,>=2.8.0 in c:\\users\\hunkb\\downloads\\quantum-chemistry-workshop-bell-state\\.venv\\lib\\site-packages (from ibm_cloud_sdk_core<4.0.0,>=3.22.1->ibm-platform-services>=0.22.6->qiskit_ibm_runtime==0.38.0->quantum_chemistry==0.0.1) (2.10.1)\n",
      "Requirement already satisfied: six>=1.5 in c:\\users\\hunkb\\downloads\\quantum-chemistry-workshop-bell-state\\.venv\\lib\\site-packages (from python-dateutil>=2.7->matplotlib==3.10.1->quantum_chemistry==0.0.1) (1.17.0)\n",
      "Requirement already satisfied: charset-normalizer<4,>=2 in c:\\users\\hunkb\\downloads\\quantum-chemistry-workshop-bell-state\\.venv\\lib\\site-packages (from requests>=2.19->qiskit_ibm_runtime==0.38.0->quantum_chemistry==0.0.1) (3.4.1)\n",
      "Requirement already satisfied: idna<4,>=2.5 in c:\\users\\hunkb\\downloads\\quantum-chemistry-workshop-bell-state\\.venv\\lib\\site-packages (from requests>=2.19->qiskit_ibm_runtime==0.38.0->quantum_chemistry==0.0.1) (3.10)\n",
      "Requirement already satisfied: certifi>=2017.4.17 in c:\\users\\hunkb\\downloads\\quantum-chemistry-workshop-bell-state\\.venv\\lib\\site-packages (from requests>=2.19->qiskit_ibm_runtime==0.38.0->quantum_chemistry==0.0.1) (2025.4.26)\n",
      "Requirement already satisfied: decorator in c:\\users\\hunkb\\downloads\\quantum-chemistry-workshop-bell-state\\.venv\\lib\\site-packages (from ipython>=7.23.1->ipykernel==6.29.5->quantum_chemistry==0.0.1) (5.2.1)\n",
      "Requirement already satisfied: ipython-pygments-lexers in c:\\users\\hunkb\\downloads\\quantum-chemistry-workshop-bell-state\\.venv\\lib\\site-packages (from ipython>=7.23.1->ipykernel==6.29.5->quantum_chemistry==0.0.1) (1.1.1)\n",
      "Requirement already satisfied: jedi>=0.16 in c:\\users\\hunkb\\downloads\\quantum-chemistry-workshop-bell-state\\.venv\\lib\\site-packages (from ipython>=7.23.1->ipykernel==6.29.5->quantum_chemistry==0.0.1) (0.19.2)\n",
      "Requirement already satisfied: prompt_toolkit<3.1.0,>=3.0.41 in c:\\users\\hunkb\\downloads\\quantum-chemistry-workshop-bell-state\\.venv\\lib\\site-packages (from ipython>=7.23.1->ipykernel==6.29.5->quantum_chemistry==0.0.1) (3.0.51)\n",
      "Requirement already satisfied: pygments>=2.4.0 in c:\\users\\hunkb\\downloads\\quantum-chemistry-workshop-bell-state\\.venv\\lib\\site-packages (from ipython>=7.23.1->ipykernel==6.29.5->quantum_chemistry==0.0.1) (2.19.1)\n",
      "Requirement already satisfied: stack_data in c:\\users\\hunkb\\downloads\\quantum-chemistry-workshop-bell-state\\.venv\\lib\\site-packages (from ipython>=7.23.1->ipykernel==6.29.5->quantum_chemistry==0.0.1) (0.6.3)\n",
      "Requirement already satisfied: wcwidth in c:\\users\\hunkb\\downloads\\quantum-chemistry-workshop-bell-state\\.venv\\lib\\site-packages (from prompt_toolkit<3.1.0,>=3.0.41->ipython>=7.23.1->ipykernel==6.29.5->quantum_chemistry==0.0.1) (0.2.13)\n",
      "Requirement already satisfied: parso<0.9.0,>=0.8.4 in c:\\users\\hunkb\\downloads\\quantum-chemistry-workshop-bell-state\\.venv\\lib\\site-packages (from jedi>=0.16->ipython>=7.23.1->ipykernel==6.29.5->quantum_chemistry==0.0.1) (0.8.4)\n",
      "Requirement already satisfied: platformdirs>=2.5 in c:\\users\\hunkb\\downloads\\quantum-chemistry-workshop-bell-state\\.venv\\lib\\site-packages (from jupyter-core!=5.0.*,>=4.12->ipykernel==6.29.5->quantum_chemistry==0.0.1) (4.3.7)\n",
      "Requirement already satisfied: pywin32>=300 in c:\\users\\hunkb\\downloads\\quantum-chemistry-workshop-bell-state\\.venv\\lib\\site-packages (from jupyter-core!=5.0.*,>=4.12->ipykernel==6.29.5->quantum_chemistry==0.0.1) (310)\n",
      "Requirement already satisfied: cryptography>=1.3 in c:\\users\\hunkb\\downloads\\quantum-chemistry-workshop-bell-state\\.venv\\lib\\site-packages (from requests-ntlm>=1.1.0->qiskit_ibm_runtime==0.38.0->quantum_chemistry==0.0.1) (44.0.2)\n",
      "Requirement already satisfied: pyspnego>=0.4.0 in c:\\users\\hunkb\\downloads\\quantum-chemistry-workshop-bell-state\\.venv\\lib\\site-packages (from requests-ntlm>=1.1.0->qiskit_ibm_runtime==0.38.0->quantum_chemistry==0.0.1) (0.11.2)\n",
      "Requirement already satisfied: cffi>=1.12 in c:\\users\\hunkb\\downloads\\quantum-chemistry-workshop-bell-state\\.venv\\lib\\site-packages (from cryptography>=1.3->requests-ntlm>=1.1.0->qiskit_ibm_runtime==0.38.0->quantum_chemistry==0.0.1) (1.17.1)\n",
      "Requirement already satisfied: pycparser in c:\\users\\hunkb\\downloads\\quantum-chemistry-workshop-bell-state\\.venv\\lib\\site-packages (from cffi>=1.12->cryptography>=1.3->requests-ntlm>=1.1.0->qiskit_ibm_runtime==0.38.0->quantum_chemistry==0.0.1) (2.22)\n",
      "Requirement already satisfied: sspilib>=0.1.0 in c:\\users\\hunkb\\downloads\\quantum-chemistry-workshop-bell-state\\.venv\\lib\\site-packages (from pyspnego>=0.4.0->requests-ntlm>=1.1.0->qiskit_ibm_runtime==0.38.0->quantum_chemistry==0.0.1) (0.3.1)\n",
      "Requirement already satisfied: pbr>=2.0.0 in c:\\users\\hunkb\\downloads\\quantum-chemistry-workshop-bell-state\\.venv\\lib\\site-packages (from stevedore>=3.0.0->qiskit==2.0.0->quantum_chemistry==0.0.1) (6.1.1)\n",
      "Requirement already satisfied: setuptools in c:\\users\\hunkb\\downloads\\quantum-chemistry-workshop-bell-state\\.venv\\lib\\site-packages (from pbr>=2.0.0->stevedore>=3.0.0->qiskit==2.0.0->quantum_chemistry==0.0.1) (80.1.0)\n",
      "Requirement already satisfied: mpmath<1.4,>=1.1.0 in c:\\users\\hunkb\\downloads\\quantum-chemistry-workshop-bell-state\\.venv\\lib\\site-packages (from sympy>=1.3->qiskit==2.0.0->quantum_chemistry==0.0.1) (1.3.0)\n",
      "Requirement already satisfied: executing>=1.2.0 in c:\\users\\hunkb\\downloads\\quantum-chemistry-workshop-bell-state\\.venv\\lib\\site-packages (from stack_data->ipython>=7.23.1->ipykernel==6.29.5->quantum_chemistry==0.0.1) (2.2.0)\n",
      "Requirement already satisfied: asttokens>=2.1.0 in c:\\users\\hunkb\\downloads\\quantum-chemistry-workshop-bell-state\\.venv\\lib\\site-packages (from stack_data->ipython>=7.23.1->ipykernel==6.29.5->quantum_chemistry==0.0.1) (3.0.0)\n",
      "Requirement already satisfied: pure-eval in c:\\users\\hunkb\\downloads\\quantum-chemistry-workshop-bell-state\\.venv\\lib\\site-packages (from stack_data->ipython>=7.23.1->ipykernel==6.29.5->quantum_chemistry==0.0.1) (0.2.3)\n",
      "Building wheels for collected packages: quantum_chemistry\n",
      "  Building editable for quantum_chemistry (pyproject.toml): started\n",
      "  Building editable for quantum_chemistry (pyproject.toml): finished with status 'done'\n",
      "  Created wheel for quantum_chemistry: filename=quantum_chemistry-0.0.1-0.editable-py3-none-any.whl size=3709 sha256=a5833edcad521ce22be614765648cc369f7a9b1d210ac3042bc7f7bbe3fdf3ee\n",
      "  Stored in directory: C:\\Users\\hunkb\\AppData\\Local\\Temp\\pip-ephem-wheel-cache-bkqz6qun\\wheels\\59\\2e\\3e\\257a499782725c70343ef7516a4be0c6f10b6ae478e2f04862\n",
      "Successfully built quantum_chemistry\n",
      "Installing collected packages: quantum_chemistry\n",
      "  Attempting uninstall: quantum_chemistry\n",
      "    Found existing installation: quantum_chemistry 0.0.1\n",
      "    Uninstalling quantum_chemistry-0.0.1:\n",
      "      Successfully uninstalled quantum_chemistry-0.0.1\n",
      "Successfully installed quantum_chemistry-0.0.1\n"
     ]
    }
   ],
   "source": [
    "!pip install -e .."
   ]
  },
  {
   "cell_type": "code",
   "execution_count": 2,
   "metadata": {},
   "outputs": [],
   "source": [
    "import numpy as np\n",
    "from IPython.display import display, Markdown # For italicized print statements\n",
    "%load_ext autoreload\n",
    "%autoreload 0"
   ]
  },
  {
   "cell_type": "markdown",
   "metadata": {},
   "source": [
    "Notebook by **Maxime Dion** <maxime.dion@usherbrooke.ca><br>\n",
    "For the QSciTech-QuantumBC virtual workshop on gate-based quantum computing"
   ]
  },
  {
   "cell_type": "markdown",
   "metadata": {},
   "source": [
    "# Important\n",
    "\n",
    "When you modify and save a `*.py` file you need to re-import it so that your modifications can be taken into account when you re-execute a call. By adding the magic command `%autoreload` at the beginning of a cell, you make sure that the modifications you did to the `*.py` files are taken into account when you re-run a cell and that you can see the effect.\n",
    "\n",
    "If you encounter weird behavior, restart the kernel and try again."
   ]
  },
  {
   "attachments": {},
   "cell_type": "markdown",
   "metadata": {},
   "source": [
    "# Tutorial 1 (Mapping)\n",
    "\n",
    "In this tutorial you will complete the implementation of the classes `PauliString` and `Operator` which will be useful to build a qubit representation of the Hamiltonian of a small molecule. You will then implement the Jordan Wigner mapping.\n",
    "\n",
    "By completing all sections of this notebook you will be able to :\n",
    "- Create `PauliString` instances.\n",
    "- Multiply `PauliString` together.\n",
    "- Translate a `PauliString` into a unitary matrix of size `(2**n)**2`.\n",
    "- Create `Operator` instances.\n",
    "- Multiply and add `Operator` together.\n",
    "- Combine repeated `PauliString`s in `Operator`.\n",
    "- Translate a `Operator` into a matrix of size `(2**n)**2`.\n",
    "- Use the Jordan-Wigner mapping to translate a Fermionic Hamiltonian into a Qubit Hamiltonian as an instance of an `Operator`.\n",
    "\n",
    "The solution we suggest here is NOT mandatory. If you find ways to make it better and more efficient, go on and impress us! \n",
    "\n",
    "**Remark on qiskit**\n",
    "\n",
    "We use `qiskit` in this workshop. The tools you'll be building here are already available in `qiskit`. For instance, the `PauliString` and `Operator` classes here have similar purpuse to `Pauli` and `SparsePauliOp` in `qiskit`. Nevertheless, we strongly encourage you to complete the current implementation because we think it as a valuable learning experience.\n",
    "\n",
    "At the end of the workshop, we encourage you to use `qiksit` to complete the same project. It should give you the same results, but now you'll understand what is going on under the hood."
   ]
  },
  {
   "cell_type": "markdown",
   "metadata": {},
   "source": [
    "# PauliString\n",
    "\n",
    "The `PauliString` class is partially implemented in the file `Pauli.py`."
   ]
  },
  {
   "cell_type": "code",
   "execution_count": 3,
   "metadata": {},
   "outputs": [],
   "source": [
    "from quantum_chemistry.pauli import PauliString"
   ]
  },
  {
   "attachments": {},
   "cell_type": "markdown",
   "metadata": {},
   "source": [
    "## Creation\n",
    "\n",
    "This object's attributes are 2 arrays of booleans `z_bits` and `x_bits`. You can easily create an instance and print the result. The `__str__` method is already implemented so you can use `print()` on any instance of `PauliString`. The boolean arrays in input are in the `0123` order and the label string is in the reversed `q3q2q1q0` order. Here we initialize the Pauli string `YXZI`."
   ]
  },
  {
   "cell_type": "code",
   "execution_count": 4,
   "metadata": {},
   "outputs": [
    {
     "name": "stdout",
     "output_type": "stream",
     "text": [
      "\n",
      "Pauli Operator Mapping Table:\n",
      "--------------------------------------------------\n",
      "Qubit    z_bit    x_bit    Operator   Meaning\n",
      "--------------------------------------------------\n",
      "0        0        0        I          Identity\n",
      "1        1        0        Z          Z rotation\n",
      "2        0        1        X          X rotation\n",
      "3        1        1        Y          Y rotation (Z and X)\n",
      "--------------------------------------------------\n",
      "\n",
      "Pauli string (internal order q0,q1,q2,q3): IZXY\n"
     ]
    },
    {
     "data": {
      "text/markdown": [
       "*NOTE: The displayed string is reversed compared to the bit arrays!*"
      ],
      "text/plain": [
       "<IPython.core.display.Markdown object>"
      ]
     },
     "metadata": {},
     "output_type": "display_data"
    },
    {
     "name": "stdout",
     "output_type": "stream",
     "text": [
      "Pauli string:  YXZI\n"
     ]
    }
   ],
   "source": [
    "def show_pauli_mapping(z_bits, x_bits):\n",
    "    \"\"\"Display the relationship between z_bits, x_bits, and Pauli operators.\"\"\"\n",
    "    print(\"\\nPauli Operator Mapping Table:\")\n",
    "    print(\"-\" * 50)\n",
    "    print(f\"{'Qubit':<8} {'z_bit':<8} {'x_bit':<8} {'Operator':<10} {'Meaning'}\")\n",
    "    print(\"-\" * 50)\n",
    "    \n",
    "    # Process each qubit position to determine corresponding Pauli operator\n",
    "    for i in range(len(z_bits)):\n",
    "        z, x = z_bits[i], x_bits[i]\n",
    "        if z == 0 and x == 0:\n",
    "            op = 'I'\n",
    "            meaning = 'Identity'\n",
    "        elif z == 1 and x == 0:\n",
    "            op = 'Z'\n",
    "            meaning = 'Z rotation'\n",
    "        elif z == 0 and x == 1:\n",
    "            op = 'X'\n",
    "            meaning = 'X rotation'\n",
    "        elif z == 1 and x == 1:\n",
    "            op = 'Y'\n",
    "            meaning = 'Y rotation (Z and X)'\n",
    "        \n",
    "        print(f\"{i:<8} {int(z):<8} {int(x):<8} {op:<10} {meaning}\")\n",
    "    \n",
    "    print(\"-\" * 50)\n",
    "    \n",
    "    # Construct the Pauli string representation\n",
    "    ops = []\n",
    "    for i in range(len(z_bits)):\n",
    "        z, x = z_bits[i], x_bits[i]\n",
    "        if z == 0 and x == 0: ops.append('I')\n",
    "        elif z == 1 and x == 0: ops.append('Z')\n",
    "        elif z == 0 and x == 1: ops.append('X')\n",
    "        elif z == 1 and x == 1: ops.append('Y')\n",
    "    \n",
    "    # Create both internal and display order strings\n",
    "    pauli_str = ''.join(ops)\n",
    "    reversed_str = ''.join(reversed(ops))\n",
    "    \n",
    "    # Print results and explanation\n",
    "    print(f\"\\nPauli string (internal order q0,q1,q2,q3): {pauli_str}\")\n",
    "    display(Markdown(\"*NOTE: The displayed string is reversed compared to the bit arrays!*\"))\n",
    "    \n",
    "# Use case example:\n",
    "z_bits = np.array([0, 1, 0, 1], dtype=bool)\n",
    "x_bits = np.array([0, 0, 1, 1], dtype=bool)\n",
    "show_pauli_mapping(z_bits, x_bits)\n",
    "pauli_string = PauliString(z_bits, x_bits)\n",
    "print('Pauli string: ', pauli_string)"
   ]
  },
  {
   "attachments": {},
   "cell_type": "markdown",
   "metadata": {},
   "source": [
    "### Creation exercice\n",
    "\n",
    "Create the `ZZXY` Pauli string. Remember that the arrays are in the 0...n order, but the string representation in the reverse order. The `print` should return `ZZXY`."
   ]
  },
  {
   "cell_type": "code",
   "execution_count": 5,
   "metadata": {},
   "outputs": [
    {
     "name": "stdout",
     "output_type": "stream",
     "text": [
      "\n",
      "Pauli Operator Mapping Table:\n",
      "--------------------------------------------------\n",
      "Qubit    z_bit    x_bit    Operator   Meaning\n",
      "--------------------------------------------------\n",
      "0        1        1        Y          Y rotation (Z and X)\n",
      "1        0        1        X          X rotation\n",
      "2        1        0        Z          Z rotation\n",
      "3        1        0        Z          Z rotation\n",
      "--------------------------------------------------\n",
      "\n",
      "Pauli string (internal order q0,q1,q2,q3): YXZZ\n"
     ]
    },
    {
     "data": {
      "text/markdown": [
       "*NOTE: The displayed string is reversed compared to the bit arrays!*"
      ],
      "text/plain": [
       "<IPython.core.display.Markdown object>"
      ]
     },
     "metadata": {},
     "output_type": "display_data"
    },
    {
     "name": "stdout",
     "output_type": "stream",
     "text": [
      "Pauli string:  ZZXY\n"
     ]
    }
   ],
   "source": [
    "z_bits = np.array([1, 0, 1, 1], dtype=bool)\n",
    "x_bits = np.array([1, 1, 0, 0], dtype=bool)\n",
    "show_pauli_mapping(z_bits, x_bits)\n",
    "print('Pauli string: ', PauliString(z_bits, x_bits))"
   ]
  },
  {
   "cell_type": "markdown",
   "metadata": {},
   "source": [
    "### Creation from string\n",
    "\n",
    "To create `PauliString` using alternative input data, you can implement `@classmethod`. \n",
    "\n",
    "Such a method called `from_str` is partially implemented in the `PauliString` class. Complete this implementation so that you can use it to create `PauliString` from a string such as `YXZI`."
   ]
  },
  {
   "cell_type": "code",
   "execution_count": 6,
   "metadata": {},
   "outputs": [
    {
     "name": "stdout",
     "output_type": "stream",
     "text": [
      "Pauli string:  YXZI\n"
     ]
    },
    {
     "data": {
      "text/markdown": [
       "*NOTE: This allows us to generate Pauli strings from ascii strings and not binary strings!*"
      ],
      "text/plain": [
       "<IPython.core.display.Markdown object>"
      ]
     },
     "metadata": {},
     "output_type": "display_data"
    }
   ],
   "source": [
    "%autoreload\n",
    "pauli_string = PauliString.from_str('YXZI')\n",
    "print('Pauli string: ', pauli_string)\n",
    "display(Markdown(\"*NOTE: This allows us to generate Pauli strings from ascii strings and not binary strings!*\"))\n"
   ]
  },
  {
   "attachments": {},
   "cell_type": "markdown",
   "metadata": {},
   "source": [
    "### Useful methods\n",
    "\n",
    "In order to compare `PauliString`s together it's convenient to represent it as `zx_bits` which is an array twice as long that combines `z_bits` and `x_bits`. Implement the `to_zx_bits()` method. Why not do the `to_xz_bits()` while your at it!\n",
    "\n",
    "You should get :\n",
    "\n",
    "<code>\n",
    "[False  True False  True False False  True  True]<br>[False False  True  True False  True False  True]\n",
    "</code>"
   ]
  },
  {
   "cell_type": "code",
   "execution_count": 7,
   "metadata": {},
   "outputs": [
    {
     "name": "stdout",
     "output_type": "stream",
     "text": [
      "Pauli string:  YXZI\n",
      "ZX Bits:  [False  True False  True False False  True  True]\n",
      "XZ Bits:  [False False  True  True False  True False  True]\n"
     ]
    }
   ],
   "source": [
    "%autoreload\n",
    "pauli_string = PauliString.from_str('YXZI')\n",
    "print('Pauli string: ', pauli_string)\n",
    "zx_bits = pauli_string.to_zx_bits()\n",
    "xz_bits = pauli_string.to_xz_bits()\n",
    "print('ZX Bits: ', zx_bits)\n",
    "print('XZ Bits: ', xz_bits)"
   ]
  },
  {
   "cell_type": "markdown",
   "metadata": {},
   "source": [
    "It's also useful to know where are the $\\hat{I}$ in a `PauliString`. Implement the method that does this. You should get \n",
    "\n",
    "<code>[ True False False False]</code>"
   ]
  },
  {
   "cell_type": "code",
   "execution_count": 8,
   "metadata": {},
   "outputs": [
    {
     "name": "stdout",
     "output_type": "stream",
     "text": [
      "[ True False False False]\n"
     ]
    },
    {
     "data": {
      "text/markdown": [
       "*NOTE: The string representation is reversed, so for IZXY the boolean array holds true!*"
      ],
      "text/plain": [
       "<IPython.core.display.Markdown object>"
      ]
     },
     "metadata": {},
     "output_type": "display_data"
    }
   ],
   "source": [
    "%autoreload\n",
    "pauli_string = PauliString.from_str('YXZI')\n",
    "ids = pauli_string.ids() # Checks for identity operators in the string\n",
    "print(ids)\n",
    "display(Markdown(\"*NOTE: The string representation is reversed, so for IZXY the boolean array holds true!*\"))"
   ]
  },
  {
   "cell_type": "markdown",
   "metadata": {},
   "source": [
    "## Multiplication with another PauliString\n",
    "\n",
    "Multiplying `PauliString`s is essential to be able to translate Fermionic Hamiltonians into a qubit Hamiltonian. \n",
    "\n",
    "Before you implement the method that will allow you to do this, you should experiment a bit with how boolean arrays behave. Take a look at methods like `np.dot()`, `np.logical_and()`, `np.logical_or()` and `np.logical_xor()`. In particular, notice that the addition `+` on booleans is not a (mod 2) addition (it's a `logical_or`) and the `np.sum()` method on a boolean array counts the number of 1 and returns an `int`."
   ]
  },
  {
   "cell_type": "code",
   "execution_count": 9,
   "metadata": {},
   "outputs": [
    {
     "name": "stdout",
     "output_type": "stream",
     "text": [
      "Original boolean arrays:\n",
      "bits_1: [False  True False  True]\n",
      "bits_2: [False  True  True  True]\n",
      "\n",
      "Boolean operations:\n",
      "Simple addition (+): [False  True  True  True]\n",
      "Count of True values (np.sum) in bits_1: 2\n",
      "Logical AND: [False  True False  True]\n",
      "Logical OR:  [False  True  True  True]\n",
      "Logical XOR: [False False  True False]  <- This is mod 2 addition!\n",
      "Dot product: True\n"
     ]
    },
    {
     "data": {
      "text/markdown": [
       "\n",
       "*IMPORTANT: When working with boolean arrays:*\n",
       "* Regular addition (`+`) performs logical OR, not modular addition\n",
       "* For mod 2 addition (needed for Pauli operations), use `np.logical_xor()`\n",
       "* `np.sum()` counts the number of True values, returning an integer\n"
      ],
      "text/plain": [
       "<IPython.core.display.Markdown object>"
      ]
     },
     "metadata": {},
     "output_type": "display_data"
    }
   ],
   "source": [
    "# Initialize boolean arrays for demonstration\n",
    "bits_1 = np.array([0,1,0,1], dtype = bool)\n",
    "bits_2 = np.array([0,1,1,1], dtype = bool) # NOT ocupation numbers, just bit mathematics!\n",
    "\n",
    "# Show raw arrays\n",
    "print(\"Original boolean arrays:\")\n",
    "print(f\"bits_1: {bits_1}\")\n",
    "print(f\"bits_2: {bits_2}\")\n",
    "\n",
    "# Demonstrate operations\n",
    "print(\"\\nBoolean operations:\")\n",
    "print(f\"Simple addition (+): {bits_1 + bits_2}\")\n",
    "print(f\"Count of True values (np.sum) in bits_1: {np.sum(bits_1)}\")\n",
    "print(f\"Logical AND: {np.logical_and(bits_1, bits_2)}\")\n",
    "print(f\"Logical OR:  {np.logical_or(bits_1, bits_2)}\")\n",
    "print(f\"Logical XOR: {np.logical_xor(bits_1, bits_2)}  <- This is mod 2 addition!\")\n",
    "print(f\"Dot product: {np.dot(bits_1, bits_2)}\")\n",
    "\n",
    "display(Markdown(\"\"\"\n",
    "*IMPORTANT: When working with boolean arrays:*\n",
    "* Regular addition (`+`) performs logical OR, not modular addition\n",
    "* For mod 2 addition (needed for Pauli operations), use `np.logical_xor()`\n",
    "* `np.sum()` counts the number of True values, returning an integer\n",
    "\"\"\"))"
   ]
  },
  {
   "attachments": {},
   "cell_type": "markdown",
   "metadata": {},
   "source": [
    "With these considerations, implement the `mul_pauli_string()` method in order to replicate the product\n",
    "\n",
    "\\begin{align}\n",
    "\\hat{I}\\hat{Y}\\hat{Z}\\hat{Z} \\times \\hat{I}\\hat{I}\\hat{X}\\hat{Z}  = i \\hat{I}\\hat{Y}\\hat{Y}\\hat{I}.\n",
    "\\end{align}\n",
    "\n",
    "The product return a `PauliString` and a phase (`complex`). The method `__mul__` is already implemeted to call `mul_pauli_string()` so you can use `*` to do the product."
   ]
  },
  {
   "cell_type": "code",
   "execution_count": 10,
   "metadata": {},
   "outputs": [
    {
     "name": "stdout",
     "output_type": "stream",
     "text": [
      "Resulting Pauli string:  IYYI\n",
      "Resulting phase:  1j\n"
     ]
    },
    {
     "data": {
      "text/markdown": [
       "*NOTE: The multiplication of Pauli strings is not commutative!*"
      ],
      "text/plain": [
       "<IPython.core.display.Markdown object>"
      ]
     },
     "metadata": {},
     "output_type": "display_data"
    }
   ],
   "source": [
    "%autoreload\n",
    "pauli_string_1 = PauliString.from_str('IYZZ')\n",
    "pauli_string_2 = PauliString.from_str('IIXZ')\n",
    "new_pauli_string, phase = pauli_string_1 * pauli_string_2\n",
    "print('Resulting Pauli string: ', new_pauli_string)\n",
    "print('Resulting phase: ', phase)\n",
    "display(Markdown(\"*NOTE: The multiplication of Pauli strings is not commutative!*\"))"
   ]
  },
  {
   "cell_type": "markdown",
   "metadata": {},
   "source": [
    "Check your solution on many pairs of Pauli strings such as\n",
    "\n",
    "\\begin{align}\n",
    "\\hat{Z}\\hat{Z}\\hat{Z}\\hat{Z} \\times \\hat{X}\\hat{X}\\hat{X}\\hat{I}  = -i \\hat{Y}\\hat{Y}\\hat{Y}\\hat{Z}.\n",
    "\\end{align}"
   ]
  },
  {
   "cell_type": "code",
   "execution_count": 11,
   "metadata": {},
   "outputs": [
    {
     "name": "stdout",
     "output_type": "stream",
     "text": [
      "Resulting Pauli string:  YYYZ\n",
      "Resulting phase:  (-0-1j)\n"
     ]
    },
    {
     "data": {
      "text/markdown": [
       "*NOTE: The multiplication of Pauli strings is not commutative!*"
      ],
      "text/plain": [
       "<IPython.core.display.Markdown object>"
      ]
     },
     "metadata": {},
     "output_type": "display_data"
    }
   ],
   "source": [
    "%autoreload\n",
    "pauli_string_1 = PauliString.from_str('ZZZZ')\n",
    "pauli_string_2 = PauliString.from_str('XXXI')\n",
    "new_pauli_string, phase = pauli_string_1 * pauli_string_2\n",
    "print('Resulting Pauli string: ', new_pauli_string)\n",
    "print('Resulting phase: ', phase)\n",
    "display(Markdown(\"*NOTE: The multiplication of Pauli strings is not commutative!*\"))"
   ]
  },
  {
   "attachments": {},
   "cell_type": "markdown",
   "metadata": {},
   "source": [
    "## Matrix representation\n",
    "The matrix reprensetation of `PauliString` will only be used to compute the exact solution of the Hamiltonian. It will not be used for quantum computing, but it's a nice way to validate your results.\n",
    "\n",
    "Any `PauliString` can be converted into a matrix. This is useful to find the exact solution for small systems. To combine the space of two qubits we use the [Kronecker product](https://en.wikipedia.org/wiki/Kronecker_product) ($\\otimes$). For example, the `ZX` Pauli string can be represented as the following matrix\n",
    "\n",
    "\\begin{align}\n",
    "    \\hat{Z}_1\\hat{X}_0 = \\hat{Z}_1\\otimes\\hat{X}_0 &= \\begin{pmatrix} 1 \\times \\hat{X}_0 & 0 \\\\ 0 & -1 \\times \\hat{X}_0 \\end{pmatrix} \\\\\n",
    "    &= \\begin{pmatrix} 0 & 1 & 0 & 0 \\\\ 1 & 0 & 0 & 0 \\\\ 0 & 0 & 0 & -1 \\\\ 0 & 0 & -1 & 0 \\end{pmatrix}\n",
    "\\end{align}\n",
    "\n",
    "which is expressed in the basis\n",
    "\n",
    "\\begin{align}\n",
    "    |00\\rangle, |01\\rangle, |10\\rangle, |11\\rangle.\n",
    "\\end{align} \n",
    "\n",
    "Indeed we verify that\n",
    "\n",
    "\\begin{align}\n",
    "    \\hat{Z}_1\\hat{X}_0 |10\\rangle &= - |11\\rangle \\\\\n",
    "    \\begin{pmatrix} 0 & 1 & 0 & 0 \\\\ 1 & 0 & 0 & 0 \\\\ 0 & 0 & 0 & -1 \\\\ 0 & 0 & -1 & 0 \\end{pmatrix}\\begin{pmatrix} 0 \\\\ 0 \\\\ 1 \\\\ 0 \\end{pmatrix} &= -\\begin{pmatrix} 0 \\\\ 0 \\\\ 0 \\\\ 1 \\end{pmatrix}\n",
    "\\end{align}"
   ]
  },
  {
   "attachments": {},
   "cell_type": "markdown",
   "metadata": {},
   "source": [
    "The `np.kron()` method is a straight foward way to acheive this. The previous 2 `PauliString`s can be turned into a $4\\times 4$ matrix like this."
   ]
  },
  {
   "cell_type": "code",
   "execution_count": 12,
   "metadata": {},
   "outputs": [
    {
     "name": "stdout",
     "output_type": "stream",
     "text": [
      "Z matrix:\n",
      "[  1.00  0.00 ]\n",
      "[  0.00 -1.00 ]\n",
      "\n",
      "X matrix:\n",
      "[  0.00  1.00 ]\n",
      "[  1.00  0.00 ]\n",
      "\n",
      "ZX matrix (Kronecker product):\n",
      "[  0.00  1.00  0.00  0.00 ]\n",
      "[  1.00  0.00  0.00  0.00 ]\n",
      "[  0.00  0.00  0.00 -1.00 ]\n",
      "[  0.00  0.00 -1.00  0.00 ]\n"
     ]
    }
   ],
   "source": [
    "z_matrix = np.array([[1, 0], [0, -1]], dtype = int)\n",
    "x_matrix = np.array([[0, 1], [1, 0]], dtype = int)\n",
    "zx_matrix = np.kron(z_matrix, x_matrix)\n",
    "\n",
    "def print_matrix(matrix):\n",
    "    \"\"\"Display a matrix in a more readable format\"\"\"\n",
    "    # Set numpy print options\n",
    "    with np.printoptions(precision=2, suppress=True, linewidth=100):\n",
    "        # Print each row on its own line for clarity\n",
    "        for row in matrix:\n",
    "            print(\"[\", end=\" \")\n",
    "            for val in row:\n",
    "                if abs(val.imag) < 1e-10:  # Just show real part if imaginary is ~0\n",
    "                    print(f\"{val.real:5.2f}\", end=\" \")\n",
    "                else:\n",
    "                    print(f\"{val:5.2f}\", end=\" \")\n",
    "            print(\"]\")\n",
    "\n",
    "# Example usage:\n",
    "print(\"Z matrix:\")\n",
    "print_matrix(z_matrix)\n",
    "print(\"\\nX matrix:\")\n",
    "print_matrix(x_matrix)\n",
    "print(\"\\nZX matrix (Kronecker product):\")\n",
    "print_matrix(zx_matrix)"
   ]
  },
  {
   "cell_type": "markdown",
   "metadata": {},
   "source": [
    "Implement the `to_matrix()` method for any Pauli string and try it to find the matrix form of `ZX`."
   ]
  },
  {
   "cell_type": "code",
   "execution_count": 13,
   "metadata": {},
   "outputs": [
    {
     "name": "stdout",
     "output_type": "stream",
     "text": [
      "ZX\n",
      "[  0.00  0.00  1.00  0.00 ]\n",
      "[  0.00 -0.00  0.00 -1.00 ]\n",
      "[  1.00  0.00  0.00  0.00 ]\n",
      "[  0.00 -1.00  0.00 -0.00 ]\n"
     ]
    }
   ],
   "source": [
    "%autoreload\n",
    "pauli_string = PauliString.from_str('ZX')\n",
    "print(pauli_string)\n",
    "matrix = pauli_string.to_matrix()\n",
    "print_matrix(matrix)"
   ]
  },
  {
   "cell_type": "markdown",
   "metadata": {},
   "source": [
    "# Operator\n",
    "The `Operator` class is partially implemented in the file `Pauli.py`."
   ]
  },
  {
   "cell_type": "code",
   "execution_count": 14,
   "metadata": {},
   "outputs": [],
   "source": [
    "from quantum_chemistry.pauli import Operator"
   ]
  },
  {
   "attachments": {},
   "cell_type": "markdown",
   "metadata": {},
   "source": [
    "## Creation\n",
    "\n",
    "To build a `Operator` you only need to provide an `numpy.array` of coefficients (`complex`) and a `numpy.array` of `PauliString`. If they are not arrays, they will be converted. Here again the `__str__()` method is already implemented."
   ]
  },
  {
   "cell_type": "code",
   "execution_count": 15,
   "metadata": {},
   "outputs": [
    {
     "name": "stdout",
     "output_type": "stream",
     "text": [
      "\n",
      "Coefficients array (shape (2,)):\n",
      "  coef[0] = (0.5+0j)\n",
      "  coef[1] = (0.5+0j)\n",
      "\n",
      "Pauli strings:\n",
      "  pauli_string[0] = IIXZ\n",
      "    z_bits: [ True False False False]\n",
      "    x_bits: [False  True False False]\n",
      "  pauli_string[1] = IYZZ\n",
      "    z_bits: [ True  True  True False]\n",
      "    x_bits: [False False  True False]\n",
      "\n",
      "Resulting quantum operator (linear combination):\n",
      "  (0.50+0.00j)*IIXZ + (0.50+0.00j)*IYZZ\n"
     ]
    },
    {
     "data": {
      "text/markdown": [
       "*Mathematical representation:* $\\hat{O} = \\sum_i c_i \\hat{P}_i$"
      ],
      "text/plain": [
       "<IPython.core.display.Markdown object>"
      ]
     },
     "metadata": {},
     "output_type": "display_data"
    },
    {
     "data": {
      "text/markdown": [
       "*In this case:* $\\hat{O} = 0.5 \\cdot \\hat{I}\\hat{I}\\hat{X}\\hat{Z} + 0.5 \\cdot \\hat{I}\\hat{Y}\\hat{Z}\\hat{Z}$"
      ],
      "text/plain": [
       "<IPython.core.display.Markdown object>"
      ]
     },
     "metadata": {},
     "output_type": "display_data"
    }
   ],
   "source": [
    "# Create coefficients and Pauli strings to form an Operator\n",
    "coefs = np.array([0.5, 0.5], dtype=complex)\n",
    "pauli_string_1 = PauliString.from_str('IIXZ')\n",
    "pauli_string_2 = PauliString.from_str('IYZZ')\n",
    "pauli_strings = np.array([pauli_string_1, pauli_string_2], dtype=PauliString)\n",
    "\n",
    "# Show the coefficients\n",
    "print(f\"\\nCoefficients array (shape {coefs.shape}):\")\n",
    "for i, coef in enumerate(coefs):\n",
    "    print(f\"  coef[{i}] = {coef}\")\n",
    "\n",
    "# Show the Pauli strings\n",
    "print(\"\\nPauli strings:\")\n",
    "for i, ps in enumerate(pauli_strings):\n",
    "    print(f\"  pauli_string[{i}] = {ps}\")\n",
    "    # For each Pauli string, show its internal representation\n",
    "    print(f\"    z_bits: {ps.z_bits}\")\n",
    "    print(f\"    x_bits: {ps.x_bits}\")\n",
    "\n",
    "# Create and display the operator\n",
    "operator = Operator(coefs, pauli_strings)\n",
    "print(\"\\nResulting quantum operator (linear combination):\")\n",
    "print(f\"  {operator}\")\n",
    "\n",
    "# Show mathematical form\n",
    "display(Markdown(r\"*Mathematical representation:* $\\hat{O} = \\sum_i c_i \\hat{P}_i$\"))\n",
    "display(Markdown(r\"*In this case:* $\\hat{O} = 0.5 \\cdot \\hat{I}\\hat{I}\\hat{X}\\hat{Z} + 0.5 \\cdot \\hat{I}\\hat{Y}\\hat{Z}\\hat{Z}$\"))"
   ]
  },
  {
   "attachments": {},
   "cell_type": "markdown",
   "metadata": {},
   "source": [
    "### Multiplication of a PauliString by a coefficient\n",
    "\n",
    "Multiplying a `PauliString` by a number is a useful way to create a `Operator` with only 1 `PauliString`. Implement the method `mul_coef` in the `PauliString` class so that you can easily create a `Operator`."
   ]
  },
  {
   "cell_type": "code",
   "execution_count": 16,
   "metadata": {},
   "outputs": [
    {
     "name": "stdout",
     "output_type": "stream",
     "text": [
      "(1.00)*IIXZ\n"
     ]
    }
   ],
   "source": [
    "%autoreload\n",
    "operator_pauli = 1 * PauliString.from_str('IIXZ')\n",
    "print(operator_pauli)"
   ]
  },
  {
   "attachments": {},
   "cell_type": "markdown",
   "metadata": {},
   "source": [
    "### Adding of Operators\n",
    "The sum of two `Operator`s is just the union of these two ensembles. Implement `add_operator()` and test your solution here. The `__add__()` method is already implemented to call `add_operator()` so you can use the `+` operator."
   ]
  },
  {
   "cell_type": "code",
   "execution_count": 17,
   "metadata": {},
   "outputs": [
    {
     "name": "stdout",
     "output_type": "stream",
     "text": [
      "(0.50)*IIXZ + (0.50)*IYZZ\n"
     ]
    }
   ],
   "source": [
    "%autoreload\n",
    "operator = 0.5*pauli_string_1 + 0.5*pauli_string_2\n",
    "print(operator)"
   ]
  },
  {
   "attachments": {},
   "cell_type": "markdown",
   "metadata": {},
   "source": [
    "### Product of Operators\n",
    "\n",
    "The product of two `Operator`s can be computed using the distributive property of any sum. While you implement `mul_operator()` make sure you take into account the phase coming from the product of two `PauliString`s. You can test your code on the following cell."
   ]
  },
  {
   "cell_type": "code",
   "execution_count": 18,
   "metadata": {},
   "outputs": [
    {
     "name": "stdout",
     "output_type": "stream",
     "text": [
      "(0.00-1.00j)*IYYI\n"
     ]
    }
   ],
   "source": [
    "%autoreload\n",
    "operator_1 = 1*PauliString.from_str('IIXZ')\n",
    "operator_2 = 1*PauliString.from_str('IYZZ')\n",
    "new_operator = operator_1 * operator_2\n",
    "print(new_operator)"
   ]
  },
  {
   "cell_type": "markdown",
   "metadata": {},
   "source": [
    "You should get:\n",
    "\n",
    "<code>\n",
    "(0.00-1.00j)*IYYI\n",
    "</code>"
   ]
  },
  {
   "attachments": {},
   "cell_type": "markdown",
   "metadata": {},
   "source": [
    "With addition and multiplication, `Operator`s are much more convenient to work with than `PauliString`s because they carry the possible phase from the product."
   ]
  },
  {
   "cell_type": "markdown",
   "metadata": {},
   "source": [
    "## Accessing subset of an Operator\n",
    "A `__getitem__()` method is already implemented to access subset of the `Operator`. You can use indices and slices, like a `list` or an `np.array`."
   ]
  },
  {
   "cell_type": "code",
   "execution_count": 19,
   "metadata": {},
   "outputs": [
    {
     "name": "stdout",
     "output_type": "stream",
     "text": [
      "\n",
      "Complete operator: (1.00)*IIIZ + (1.00)*IIZI + (1.00)*IZII + (1.00)*ZIII\n",
      "\n",
      "Accessing individual terms:\n",
      "operator[0] = (1.00)*IIIZ  # First term\n",
      "operator[1:3] = (1.00)*IIZI + (1.00)*IZII  # Slice from index 1 to 2\n",
      "operator[-1] = (1.00)*ZIII  # Last term\n"
     ]
    },
    {
     "data": {
      "text/markdown": [
       "\n",
       "*Mathematical representation:*\n",
       "* Full operator: $\\hat{O} = \\hat{Z}_0\\hat{I}_1\\hat{I}_2\\hat{I}_3 + \\hat{I}_0\\hat{Z}_1\\hat{I}_2\\hat{I}_3 + \\hat{I}_0\\hat{I}_1\\hat{Z}_2\\hat{I}_3 + \\hat{I}_0\\hat{I}_1\\hat{I}_2\\hat{Z}_3$\n",
       "* First term: $\\hat{O}[0] = \\hat{Z}_0\\hat{I}_1\\hat{I}_2\\hat{I}_3$\n",
       "* Slice: $\\hat{O}[1:3] = \\hat{I}_0\\hat{Z}_1\\hat{I}_2\\hat{I}_3 + \\hat{I}_0\\hat{I}_1\\hat{Z}_2\\hat{I}_3$\n",
       "* Last term: $\\hat{O}[-1] = \\hat{I}_0\\hat{I}_1\\hat{I}_2\\hat{Z}_3$\n"
      ],
      "text/plain": [
       "<IPython.core.display.Markdown object>"
      ]
     },
     "metadata": {},
     "output_type": "display_data"
    }
   ],
   "source": [
    "# Create an operator with four Pauli strings\n",
    "operator = 1*PauliString.from_str('IIIZ') + 1*PauliString.from_str('IIZI') + 1*PauliString.from_str('IZII') + 1*PauliString.from_str('ZIII')\n",
    "print(f\"\\nComplete operator: {operator}\")\n",
    "\n",
    "# Demonstrate indexing and slicing\n",
    "print(\"\\nAccessing individual terms:\")\n",
    "print(f\"operator[0] = {operator[0]}  # First term\")\n",
    "print(f\"operator[1:3] = {operator[1:3]}  # Slice from index 1 to 2\")\n",
    "print(f\"operator[-1] = {operator[-1]}  # Last term\")\n",
    "\n",
    "# Show mathematical form\n",
    "display(Markdown(r\"\"\"\n",
    "*Mathematical representation:*\n",
    "* Full operator: $\\hat{O} = \\hat{Z}_0\\hat{I}_1\\hat{I}_2\\hat{I}_3 + \\hat{I}_0\\hat{Z}_1\\hat{I}_2\\hat{I}_3 + \\hat{I}_0\\hat{I}_1\\hat{Z}_2\\hat{I}_3 + \\hat{I}_0\\hat{I}_1\\hat{I}_2\\hat{Z}_3$\n",
    "* First term: $\\hat{O}[0] = \\hat{Z}_0\\hat{I}_1\\hat{I}_2\\hat{I}_3$\n",
    "* Slice: $\\hat{O}[1:3] = \\hat{I}_0\\hat{Z}_1\\hat{I}_2\\hat{I}_3 + \\hat{I}_0\\hat{I}_1\\hat{Z}_2\\hat{I}_3$\n",
    "* Last term: $\\hat{O}[-1] = \\hat{I}_0\\hat{I}_1\\hat{I}_2\\hat{Z}_3$\n",
    "\"\"\"))"
   ]
  },
  {
   "attachments": {},
   "cell_type": "markdown",
   "metadata": {},
   "source": [
    "## Combinaison and threshold\n",
    "When a `PauliString` is present many times in a `Operator`, it is convenient to be able to remove extra occurences by combining the respective coefficients. Let's take the example from the presentation."
   ]
  },
  {
   "cell_type": "code",
   "execution_count": 20,
   "metadata": {},
   "outputs": [
    {
     "name": "stdout",
     "output_type": "stream",
     "text": [
      "(1.00)*ZZZZ + (0.50)*ZZIZ + (-0.50)*ZZIZ + (-0.25)*ZZZZ\n"
     ]
    }
   ],
   "source": [
    "operator_1 = 1*PauliString.from_str('IIIZ') - 0.5*PauliString.from_str('IIZZ') \n",
    "operator_2 = 1*PauliString.from_str('ZZZI') + 0.5*PauliString.from_str('ZZII') \n",
    "operator_3 = operator_1 * operator_2\n",
    "print(operator_3)"
   ]
  },
  {
   "attachments": {},
   "cell_type": "markdown",
   "metadata": {},
   "source": [
    "We see that `ZZZZ` occurs 2 times and `ZZIZ` occurs 2 times as well.\n",
    "\n",
    "Implement the `combine()` method to reduce the `Operator` to 2 `PauliString`s. There are many ways to do that. Suggestion, convert with `to_zx_bits()` and use the `np.unique()` method. DO NOT remove `PauliString`s with `0` coef yet."
   ]
  },
  {
   "cell_type": "code",
   "execution_count": 21,
   "metadata": {},
   "outputs": [
    {
     "name": "stdout",
     "output_type": "stream",
     "text": [
      "(0.00+0.00j)*ZZIZ + (0.75+0.00j)*ZZZZ"
     ]
    },
    {
     "name": "stdout",
     "output_type": "stream",
     "text": [
      "\n"
     ]
    }
   ],
   "source": [
    "%autoreload\n",
    "operator_combined = operator_3.combine()\n",
    "print(operator_combined)"
   ]
  },
  {
   "cell_type": "markdown",
   "metadata": {},
   "source": [
    "You should get:\n",
    "\n",
    "<code>\n",
    "(0.75+0.00j)*ZZZZ + (0.00+0.00j)*ZZIZ\n",
    "</code>"
   ]
  },
  {
   "attachments": {},
   "cell_type": "markdown",
   "metadata": {},
   "source": [
    "Implement the `apply_threshold()` method to get rid of any Pauli string with a coefficient smaller than the `threshold`."
   ]
  },
  {
   "cell_type": "code",
   "execution_count": 22,
   "metadata": {},
   "outputs": [
    {
     "name": "stdout",
     "output_type": "stream",
     "text": [
      "(0.75+0.00j)*ZZZZ\n"
     ]
    }
   ],
   "source": [
    "%autoreload\n",
    "operator = operator_combined.apply_threshold() # Threshold of 1e-10\n",
    "print(operator)"
   ]
  },
  {
   "cell_type": "markdown",
   "metadata": {},
   "source": [
    "You should get:\n",
    "\n",
    "<code>\n",
    "(0.75+0.00j)*ZZZZ\n",
    "</code>"
   ]
  },
  {
   "attachments": {},
   "cell_type": "markdown",
   "metadata": {},
   "source": [
    "## Matrix representation\n",
    "\n",
    "The `Operator` can also be represented as a matrix. This matrix is just the linear combinaison of the matrices representing each Pauli string. Implement the `to_matrix()` method."
   ]
  },
  {
   "cell_type": "code",
   "execution_count": 23,
   "metadata": {},
   "outputs": [
    {
     "name": "stdout",
     "output_type": "stream",
     "text": [
      "[  1.00  0.00  0.00  2.00 ]\n",
      "[  0.00 -1.00  2.00  0.00 ]\n",
      "[  0.00  2.00 -1.00  0.00 ]\n",
      "[  2.00  0.00  0.00  1.00 ]\n"
     ]
    }
   ],
   "source": [
    "%autoreload\n",
    "small_operator = 1*PauliString.from_str('ZZ') + 2*PauliString.from_str('XX')\n",
    "matrix = small_operator.to_matrix()\n",
    "print_matrix(matrix)"
   ]
  },
  {
   "cell_type": "markdown",
   "metadata": {},
   "source": [
    "You should get :\n",
    "\n",
    "<code>\n",
    "[[ 1.+0.j  0.+0.j  0.+0.j  2.+0.j]<br> [ 0.+0.j -1.+0.j  2.+0.j  0.+0.j]<br> [ 0.+0.j  2.+0.j -1.+0.j  0.+0.j]<br> [ 2.+0.j  0.+0.j  0.+0.j  1.+0.j]] \n",
    "</code>"
   ]
  },
  {
   "cell_type": "markdown",
   "metadata": {},
   "source": [
    "# Molecular Hamiltonian\n",
    "\n",
    "Before constructing the qubit representation of the molecular Hamiltonian we need the Hamiltonian in its fermionic representation. Therefore, we first need to get the integral tensors. We will use the pre-computed integrals from the `h2_data` directory.\n"
   ]
  },
  {
   "cell_type": "markdown",
   "metadata": {},
   "source": [
    "### Loading the integrals from files\n",
    "\n",
    "The integrals are precomputed for a given set of interatomic distances. To load the data for one distance use the following code. The first ouput is the distance. The next two are the 2d and 4d tensors for the one body and two body integrals. The last is the nuclear repulsion energy which will contribute to the total energy."
   ]
  },
  {
   "cell_type": "code",
   "execution_count": 24,
   "metadata": {},
   "outputs": [
    {
     "name": "stdout",
     "output_type": "stream",
     "text": [
      "Loading h2_mo_integrals_d_0750.npz\n"
     ]
    }
   ],
   "source": [
    "from quantum_chemistry.molecule.h2_molecule import load_h2_spin_orbital_integral\n",
    "\n",
    "distance, one_body, two_body, nuc_eneg = load_h2_spin_orbital_integral(\"../h2_data\",\"h2_mo_integrals_d_0750.npz\")"
   ]
  },
  {
   "cell_type": "markdown",
   "metadata": {},
   "source": [
    "You can also load them all at one. It will return you a list of distances and a list of tuples structured such this way `(one_body, two_body, nuc_eneg)`. "
   ]
  },
  {
   "cell_type": "code",
   "execution_count": 25,
   "metadata": {},
   "outputs": [
    {
     "name": "stdout",
     "output_type": "stream",
     "text": [
      "Loading h2_mo_integrals_d_0300.npz\n",
      "Loading h2_mo_integrals_d_0350.npz\n",
      "Loading h2_mo_integrals_d_0400.npz\n",
      "Loading h2_mo_integrals_d_0450.npz\n",
      "Loading h2_mo_integrals_d_0500.npz\n",
      "Loading h2_mo_integrals_d_0550.npz\n",
      "Loading h2_mo_integrals_d_0600.npz\n",
      "Loading h2_mo_integrals_d_0650.npz\n",
      "Loading h2_mo_integrals_d_0700.npz\n",
      "Loading h2_mo_integrals_d_0750.npz\n",
      "Loading h2_mo_integrals_d_0800.npz\n",
      "Loading h2_mo_integrals_d_0850.npz\n",
      "Loading h2_mo_integrals_d_0900.npz\n",
      "Loading h2_mo_integrals_d_0950.npz\n",
      "Loading h2_mo_integrals_d_1000.npz\n",
      "Loading h2_mo_integrals_d_1050.npz\n",
      "Loading h2_mo_integrals_d_1100.npz\n",
      "Loading h2_mo_integrals_d_1150.npz\n",
      "Loading h2_mo_integrals_d_1200.npz\n",
      "Loading h2_mo_integrals_d_1250.npz\n",
      "Loading h2_mo_integrals_d_1300.npz\n",
      "Loading h2_mo_integrals_d_1350.npz\n",
      "Loading h2_mo_integrals_d_1400.npz\n",
      "Loading h2_mo_integrals_d_1450.npz\n",
      "Loading h2_mo_integrals_d_1500.npz\n",
      "Loading h2_mo_integrals_d_1550.npz\n",
      "Loading h2_mo_integrals_d_1600.npz\n",
      "Loading h2_mo_integrals_d_1650.npz\n",
      "Loading h2_mo_integrals_d_1700.npz\n",
      "Loading h2_mo_integrals_d_1750.npz\n",
      "Loading h2_mo_integrals_d_1800.npz\n",
      "Loading h2_mo_integrals_d_1850.npz\n",
      "Loading h2_mo_integrals_d_1900.npz\n",
      "Loading h2_mo_integrals_d_1950.npz\n"
     ]
    }
   ],
   "source": [
    "from quantum_chemistry.molecule.h2_molecule import load_h2_spin_orbital_integrals\n",
    "\n",
    "distances, molecule_datas = load_h2_spin_orbital_integrals(\"../h2_data\")"
   ]
  },
  {
   "cell_type": "markdown",
   "metadata": {},
   "source": [
    "# Mapping\n",
    "You are now in good position to implement your first mapping. The functions to perform the Jordan-Wigner Mapping are partially implemented in the file `Mapping.py`."
   ]
  },
  {
   "attachments": {},
   "cell_type": "markdown",
   "metadata": {},
   "source": [
    "## Jordan-Wigner creation/annihilation operators\n",
    "\n",
    "The first task of the mapping is to translate creation and annihilation fermionic operators into `Operator`. You now need to implement the `creation_annihilation_operators_with_jordan_wigner()` function. It should return 2 lists of `Operator`s, one `list` for creation operators and one `list` for annihilation operators. You can make use of the addition and multipliation method you implemented earlier.\n",
    "\n",
    "Refer to the presentation for the general structure of the Jordan-Wigner mapping. Make sure your method works for different numbers of qubits."
   ]
  },
  {
   "cell_type": "code",
   "execution_count": 26,
   "metadata": {},
   "outputs": [
    {
     "name": "stdout",
     "output_type": "stream",
     "text": [
      "4 creation operators\n",
      "Creation operators\n",
      "(0.50+0.00j)*IIIX + (-0.00-0.50j)*IIIY\n",
      "(0.50+0.00j)*IIXZ + (-0.00-0.50j)*IIYZ\n",
      "(0.50+0.00j)*IXZZ + (-0.00-0.50j)*IYZZ\n",
      "(0.50+0.00j)*XZZZ + (-0.00-0.50j)*YZZZ\n",
      "\n",
      "4 annihilation operators\n",
      "Annihilation operators\n",
      "(0.50+0.00j)*IIIX + (0.00+0.50j)*IIIY\n",
      "(0.50+0.00j)*IIXZ + (0.00+0.50j)*IIYZ\n",
      "(0.50+0.00j)*IXZZ + (0.00+0.50j)*IYZZ\n",
      "(0.50+0.00j)*XZZZ + (0.00+0.50j)*YZZZ\n"
     ]
    },
    {
     "data": {
      "text/markdown": [
       "\n",
       "*Mathematical form of Jordan-Wigner mapping:*\n",
       "\n",
       "For creation operators:\n",
       "$$a_p^\\dagger = \\frac{1}{2}(X_p - iY_p) \\prod_{j=0}^{p-1}Z_j$$\n",
       "\n",
       "For annihilation operators:\n",
       "$$a_p = \\frac{1}{2}(X_p + iY_p) \\prod_{j=0}^{p-1}Z_j$$\n",
       "\n",
       "*Explicit expressions for each operator:*\n",
       "$$a_0^\\dagger = \\frac{1}{2}(X_0 - iY_0)$$\n",
       "$$a_1^\\dagger = \\frac{1}{2}(X_1 - iY_1)Z_0$$\n",
       "$$a_2^\\dagger = \\frac{1}{2}(X_2 - iY_2)Z_0Z_1$$\n",
       "$$a_3^\\dagger = \\frac{1}{2}(X_3 - iY_3)Z_0Z_1Z_2$$\n"
      ],
      "text/plain": [
       "<IPython.core.display.Markdown object>"
      ]
     },
     "metadata": {},
     "output_type": "display_data"
    }
   ],
   "source": [
    "%autoreload\n",
    "from quantum_chemistry.mapping import creation_annihilation_operators_with_jordan_wigner\n",
    "\n",
    "creation_operators, annihilation_operators = creation_annihilation_operators_with_jordan_wigner(4)\n",
    "print(len(creation_operators), 'creation operators')\n",
    "print('Creation operators')\n",
    "for ap in creation_operators:\n",
    "    print(ap)\n",
    "print()\n",
    "print(len(annihilation_operators), 'annihilation operators')\n",
    "print('Annihilation operators')\n",
    "for am in annihilation_operators:\n",
    "    print(am)\n",
    "\n",
    "from IPython.display import display, Markdown\n",
    "display(Markdown(r\"\"\"\n",
    "*Mathematical form of Jordan-Wigner mapping:*\n",
    "\n",
    "For creation operators:\n",
    "$$a_p^\\dagger = \\frac{1}{2}(X_p - iY_p) \\prod_{j=0}^{p-1}Z_j$$\n",
    "\n",
    "For annihilation operators:\n",
    "$$a_p = \\frac{1}{2}(X_p + iY_p) \\prod_{j=0}^{p-1}Z_j$$\n",
    "\n",
    "*Explicit expressions for each operator:*\n",
    "\n",
    "$$a_0^\\dagger = \\frac{1}{2}(X_0 - iY_0)$$\n",
    "$$a_1^\\dagger = \\frac{1}{2}(X_1 - iY_1)Z_0$$\n",
    "$$a_2^\\dagger = \\frac{1}{2}(X_2 - iY_2)Z_0Z_1$$\n",
    "$$a_3^\\dagger = \\frac{1}{2}(X_3 - iY_3)Z_0Z_1Z_2$$\n",
    "\"\"\"))"
   ]
  },
  {
   "attachments": {},
   "cell_type": "markdown",
   "metadata": {},
   "source": [
    "For the creation operators you should get.\n",
    "\n",
    "<code>\n",
    "4 creation operators<br>\n",
    "Creation operators<br>\n",
    "(0.50+0.00j)*IIIX + (-0.00-0.50j)*IIIY<br>\n",
    "(0.50+0.00j)*IIXZ + (-0.00-0.50j)*IIYZ<br>\n",
    "(0.50+0.00j)*IXZZ + (-0.00-0.50j)*IYZZ<br>\n",
    "(0.50+0.00j)*XZZZ + (-0.00-0.50j)*YZZZ<br>\n",
    "</code>\n",
    "\n",
    "For the annihilation just reverse the sign of the imaginary part."
   ]
  },
  {
   "attachments": {},
   "cell_type": "markdown",
   "metadata": {},
   "source": [
    "## Building the Qubit Hamiltonian\n",
    "\n",
    "The construct the qubit Hamiltonian, you only need to use the mapped creation and annihilation operators and compose them following the Hamiltonien formulation."
   ]
  },
  {
   "attachments": {},
   "cell_type": "markdown",
   "metadata": {},
   "source": [
    "### One body term\n",
    "\n",
    "Let's start with the one_body part. The one body Hamiltonian is of the form \n",
    "\n",
    "\\begin{align*}\n",
    "    \\hat{H}_1 = \\sum_{i,j} h_{ij} \\hat{a}_i^\\dagger \\hat{a}_j\n",
    "\\end{align*} \n",
    "\n",
    "You should now be able to implement the `build_one_body_qubit_hamiltonian` function in the `mapping.py` file. \n",
    "\n",
    "Each fermionic operator is made of 2 Pauli strings. So each term $i,j$ creates 4 Pauli strings. There is 16 terms in $h_{ij}$ so there is 64 Pauli strings (if we do not consider combinaison and applying threshold yet). Your implementation should now return a `Operator` of length 64."
   ]
  },
  {
   "cell_type": "code",
   "execution_count": 36,
   "metadata": {},
   "outputs": [
    {
     "name": "stdout",
     "output_type": "stream",
     "text": [
      "Loading h2_mo_integrals_d_0750.npz\n",
      "Bond distance: 0.75 Å\n",
      "Nuclear repulsion energy: 0.70556961456 hartree\n",
      "One-body tensor shape: (4, 4)\n",
      "\n",
      "Sample of one-body integral values (h_ij):\n",
      "  h_0,0 = -1.247285\n",
      "  h_1,1 = -0.481273\n",
      "  h_2,2 = -1.247285\n",
      "  h_3,3 = -0.481273\n",
      "\n",
      "Created 4 creation operators and 4 annihilation operators\n",
      "First creation operator:\n",
      "  (0.50+0.00j)*IIIX + (-0.00-0.50j)*IIIY\n",
      "First annihilation operator:\n",
      "  (0.50+0.00j)*IIIX + (0.00+0.50j)*IIIY\n",
      "\n",
      "Building one-body qubit Hamiltonian...\n",
      "Raw one-body operator has 16 Pauli terms\n"
     ]
    },
    {
     "data": {
      "text/markdown": [
       "\n",
       "*The one-body Hamiltonian terms are expressed mathematically as:*\n",
       "\n",
       "$$\\hat{H}_1 = \\sum_{i,j} h_{ij} \\hat{a}_i^\\dagger \\hat{a}_j$$\n",
       "\n",
       "Where:\n",
       "- $h_{ij}$ are the one-body integrals (shown in the sample above)\n",
       "- $\\hat{a}_i^\\dagger$ is the creation operator for orbital $i$\n",
       "- $\\hat{a}_j$ is the annihilation operator for orbital $j$\n",
       "\n",
       "*The Jordan-Wigner mapping transforms these fermionic operators into Pauli strings:*\n",
       "\n",
       "$$\\hat{a}_p^\\dagger = \\frac{1}{2}(\\hat{X}_p - i\\hat{Y}_p) \\prod_{j=0}^{p-1}\\hat{Z}_j$$\n",
       "\n",
       "$$\\hat{a}_p = \\frac{1}{2}(\\hat{X}_p + i\\hat{Y}_p) \\prod_{j=0}^{p-1}\\hat{Z}_j$$\n"
      ],
      "text/plain": [
       "<IPython.core.display.Markdown object>"
      ]
     },
     "metadata": {},
     "output_type": "display_data"
    }
   ],
   "source": [
    "%autoreload\n",
    "from quantum_chemistry.mapping import build_one_body_qubit_hamiltonian, creation_annihilation_operators_with_jordan_wigner\n",
    "from quantum_chemistry.molecule.h2_molecule import load_h2_spin_orbital_integral\n",
    "\n",
    "# Load molecular data for H2 at a bond distance of 0.75 angstroms\n",
    "distance, one_body, two_body, nuc_eneg = load_h2_spin_orbital_integral(\"../h2_data\",\"h2_mo_integrals_d_0750.npz\")\n",
    "print(f\"Bond distance: {distance} Å\")\n",
    "print(f\"Nuclear repulsion energy: {nuc_eneg} hartree\")\n",
    "print(f\"One-body tensor shape: {one_body.shape}\")\n",
    "\n",
    "# Print a sample of the one-body integral values\n",
    "print(\"\\nSample of one-body integral values (h_ij):\")\n",
    "for i in range(min(4, one_body.shape[0])):\n",
    "    for j in range(min(4, one_body.shape[1])):\n",
    "        if abs(one_body[i, j]) > 1e-10:\n",
    "            print(f\"  h_{i},{j} = {one_body[i, j].real:.6f}\")\n",
    "\n",
    "# Create the creation and annihilation operators using Jordan-Wigner mapping\n",
    "creation_operators, annihilation_operators = creation_annihilation_operators_with_jordan_wigner(4)\n",
    "print(f\"\\nCreated {len(creation_operators)} creation operators and {len(annihilation_operators)} annihilation operators\")\n",
    "print(\"First creation operator:\")\n",
    "print(f\"  {creation_operators[0]}\")\n",
    "print(\"First annihilation operator:\")\n",
    "print(f\"  {annihilation_operators[0]}\")\n",
    "\n",
    "# Build the one-body qubit Hamiltonian\n",
    "print(\"\\nBuilding one-body qubit Hamiltonian...\")\n",
    "one_body_operator = build_one_body_qubit_hamiltonian(one_body, creation_operators, annihilation_operators)\n",
    "print(f\"Raw one-body operator has {len(one_body_operator.coefs)} Pauli terms\")\n",
    "\n",
    "# Display mathematical representations of the equations\n",
    "from IPython.display import display, Markdown\n",
    "display(Markdown(r\"\"\"\n",
    "*The one-body Hamiltonian terms are expressed mathematically as:*\n",
    "\n",
    "$$\\hat{H}_1 = \\sum_{i,j} h_{ij} \\hat{a}_i^\\dagger \\hat{a}_j$$\n",
    "\n",
    "Where:\n",
    "- $h_{ij}$ are the one-body integrals (shown in the sample above)\n",
    "- $\\hat{a}_i^\\dagger$ is the creation operator for orbital $i$\n",
    "- $\\hat{a}_j$ is the annihilation operator for orbital $j$\n",
    "\n",
    "*The Jordan-Wigner mapping transforms these fermionic operators into Pauli strings:*\n",
    "\n",
    "$$\\hat{a}_p^\\dagger = \\frac{1}{2}(\\hat{X}_p - i\\hat{Y}_p) \\prod_{j=0}^{p-1}\\hat{Z}_j$$\n",
    "\n",
    "$$\\hat{a}_p = \\frac{1}{2}(\\hat{X}_p + i\\hat{Y}_p) \\prod_{j=0}^{p-1}\\hat{Z}_j$$\n",
    "\"\"\"))"
   ]
  },
  {
   "cell_type": "code",
   "execution_count": 39,
   "metadata": {},
   "outputs": [
    {
     "data": {
      "text/markdown": [
       "\n",
       "### Processing the One-body Operator\n",
       "\n",
       "We apply several operations to simplify the raw one-body operator:\n",
       "\n",
       "1. **apply_threshold()** - Removes terms with near-zero coefficients\n",
       "2. **combine()** - Merges duplicate Pauli strings by adding their coefficients\n",
       "3. **apply_threshold()** - Removes any new near-zero terms created during combination\n",
       "4. **sort()** - Orders terms by coefficient magnitude for readability\n",
       "\n",
       "This process transforms our raw operator with many terms into a simplified expression with only the significant terms.\n"
      ],
      "text/plain": [
       "<IPython.core.display.Markdown object>"
      ]
     },
     "metadata": {},
     "output_type": "display_data"
    },
    {
     "data": {
      "text/markdown": [
       "\n",
       "### Processing the One-body Operator\n",
       "\n",
       "We apply several operations to simplify the raw one-body operator:\n",
       "\n",
       "1. **apply_threshold()** - Removes terms with near-zero coefficients\n",
       "2. **combine()** - Merges duplicate Pauli strings by adding their coefficients\n",
       "3. **apply_threshold()** - Removes any new near-zero terms created during combination\n",
       "4. **sort()** - Orders terms by coefficient magnitude for readability\n",
       "\n",
       "This process transforms our raw operator with many terms into a simplified expression with only the significant terms.\n"
      ],
      "text/plain": [
       "<IPython.core.display.Markdown object>"
      ]
     },
     "metadata": {},
     "output_type": "display_data"
    },
    {
     "data": {
      "text/markdown": [
       "\n",
       "### Simplifying the One-Body Operator\n",
       "\n",
       "The raw Hamiltonian contains many terms with near-zero coefficients and duplicate Pauli strings.\n",
       "We apply several operations to simplify it:\n",
       "\n",
       "1. **apply_threshold()** - Removes terms with coefficients below 1e-10\n",
       "2. **combine()** - Consolidates identical Pauli strings by adding their coefficients\n",
       "3. **apply_threshold()** - Removes any new terms with negligible coefficients\n",
       "4. **sort()** - Orders terms by their coefficients' absolute values.\n",
       "\n",
       "The resulting operator is a more compact representation of the form:\n",
       "\n",
       "$$\\hat{H}_1 = \\sum_j c_j \\hat{P}_j$$\n",
       "\n",
       "Where:\n",
       "- $c_j$ is the real coefficient for each term\n",
       "- $\\hat{P}_j$ is a Pauli string (product of I, X, Y, Z operators)\n",
       "\n",
       "This more efficient representation helps us implement the Hamiltonian on quantum hardware with fewer gates.\n"
      ],
      "text/plain": [
       "<IPython.core.display.Markdown object>"
      ]
     },
     "metadata": {},
     "output_type": "display_data"
    },
    {
     "name": "stdout",
     "output_type": "stream",
     "text": [
      "(-1.73+0.00j)*IIII + (0.62+0.00j)*IZII + (0.62+0.00j)*IIIZ + (0.24+0.00j)*ZIII + (0.24+0.00j)*IIZI\n"
     ]
    }
   ],
   "source": [
    "# Display the mathematical explanation of the one-body operator processing\n",
    "display(Markdown(r\"\"\"\n",
    "### Processing the One-body Operator\n",
    "\n",
    "We apply several operations to simplify the raw one-body operator:\n",
    "\n",
    "1. **apply_threshold()** - Removes terms with near-zero coefficients\n",
    "2. **combine()** - Merges duplicate Pauli strings by adding their coefficients\n",
    "3. **apply_threshold()** - Removes any new near-zero terms created during combination\n",
    "4. **sort()** - Orders terms by coefficient magnitude for readability\n",
    "\n",
    "This process transforms our raw operator with many terms into a simplified expression with only the significant terms.\n",
    "\"\"\"))\n",
    "\n",
    "# Apply the processing pipeline to the one-body operator\n",
    "one_body_operator = one_body_operator.apply_threshold().combine().apply_threshold().sort()\n",
    "display(Markdown(r\"\"\"\n",
    "### Simplifying the One-Body Operator\n",
    "\n",
    "The raw Hamiltonian contains many terms with near-zero coefficients and duplicate Pauli strings.\n",
    "We apply several operations to simplify it:\n",
    "\n",
    "1. **apply_threshold()** - Removes terms with coefficients below 1e-10\n",
    "2. **combine()** - Consolidates identical Pauli strings by adding their coefficients\n",
    "3. **apply_threshold()** - Removes any new terms with negligible coefficients\n",
    "4. **sort()** - Orders terms by their coefficients' absolute values.\n",
    "\n",
    "The resulting operator is a more compact representation of the form:\n",
    "\n",
    "$$\\hat{H}_1 = \\sum_j c_j \\hat{P}_j$$\n",
    "\n",
    "Where:\n",
    "- $c_j$ is the real coefficient for each term\n",
    "- $\\hat{P}_j$ is a Pauli string (product of I, X, Y, Z operators)\n",
    "\n",
    "This more efficient representation helps us implement the Hamiltonian on quantum hardware with fewer gates.\n",
    "\"\"\"))\n",
    "print(one_body_operator)"
   ]
  },
  {
   "cell_type": "markdown",
   "metadata": {},
   "source": [
    "We see many Pauli strings with 0 coefficient as well as many repeated strings. We can now exploit `combine()` and `apply_threshold()`. Since there is many 0 terms already we do `apply_threshold()` first, then `combine()` and `apply_threshold()` again if there was any cancellations. We can finish with `sort()` for neat presentation."
   ]
  },
  {
   "cell_type": "code",
   "execution_count": 40,
   "metadata": {},
   "outputs": [
    {
     "name": "stdout",
     "output_type": "stream",
     "text": [
      "(-1.73+0.00j)*IIII + (0.62+0.00j)*IZII + (0.62+0.00j)*IIIZ + (0.24+0.00j)*ZIII + (0.24+0.00j)*IIZI\n"
     ]
    },
    {
     "name": "stdout",
     "output_type": "stream",
     "text": [
      "(-1.73+0.00j)*IIII + (0.62+0.00j)*IZII + (0.62+0.00j)*IIIZ + (0.24+0.00j)*ZIII + (0.24+0.00j)*IIZI\n"
     ]
    },
    {
     "data": {
      "text/markdown": [
       "\n",
       "*The simplified one-body operator after applying thresholds and combining like terms:*\n",
       "\n",
       "The apply_threshold() method removes Pauli terms with very small coefficients to reduce complexity.\n",
       "The combine() method groups together like Pauli strings and sums their coefficients.\n",
       "The sort() method orders the terms by their coefficients' absolute values.\n",
       "\n",
       "The resulting operator is a more compact representation of the form:\n",
       "\n",
       "$$\\hat{H}_1 = \\sum_j c_j \\hat{P}_j$$\n",
       "\n",
       "Where:\n",
       "- $c_j$ is the real coefficient for each term\n",
       "- $\\hat{P}_j$ is a Pauli string (product of I, X, Y, Z operators)\n",
       "\n",
       "This more efficient representation helps us implement the Hamiltonian on quantum hardware with fewer gates.\n"
      ],
      "text/plain": [
       "<IPython.core.display.Markdown object>"
      ]
     },
     "metadata": {},
     "output_type": "display_data"
    }
   ],
   "source": [
    "one_body_operator = one_body_operator.apply_threshold().combine().apply_threshold().sort()\n",
    "print(one_body_operator)\n",
    "\n",
    "# Display mathematical explanation of the simplified operator\n",
    "from IPython.display import display, Markdown\n",
    "display(Markdown(r\"\"\"\n",
    "*The simplified one-body operator after applying thresholds and combining like terms:*\n",
    "\n",
    "The apply_threshold() method removes Pauli terms with very small coefficients to reduce complexity.\n",
    "The combine() method groups together like Pauli strings and sums their coefficients.\n",
    "The sort() method orders the terms by their coefficients' absolute values.\n",
    "\n",
    "The resulting operator is a more compact representation of the form:\n",
    "\n",
    "$$\\hat{H}_1 = \\sum_j c_j \\hat{P}_j$$\n",
    "\n",
    "Where:\n",
    "- $c_j$ is the real coefficient for each term\n",
    "- $\\hat{P}_j$ is a Pauli string (product of I, X, Y, Z operators)\n",
    "\n",
    "This more efficient representation helps us implement the Hamiltonian on quantum hardware with fewer gates.\n",
    "\"\"\"))"
   ]
  },
  {
   "attachments": {},
   "cell_type": "markdown",
   "metadata": {},
   "source": [
    "You should get :\n",
    "\n",
    "<code>\n",
    "(-1.73+0.00j)*IIII + (0.62+0.00j)*IIIZ + (0.62+0.00j)*IZII + (0.24+0.00j)*IIZI + (0.24+0.00j)*ZIII\n",
    "</code>"
   ]
  },
  {
   "cell_type": "markdown",
   "metadata": {},
   "source": [
    "### Two body term\n",
    "The two body Hamiltonian is of the following form :\n",
    "\n",
    "\\begin{align*}\n",
    "    \\hat{H}_2 = \\frac{1}{2}\\sum_{i,j} h_{ijkl} \\hat{a}_i^\\dagger\\hat{a}_j^\\dagger \\hat{a}_k\\hat{a}_l\n",
    "\\end{align*} \n",
    "\n",
    "You can now implement the `build_two_body_qubit_hamiltonian` function in the `mapping.py` file. \n",
    "Counting all Pauli strings you should produce 4096 Pauli strings."
   ]
  },
  {
   "cell_type": "code",
   "execution_count": 42,
   "metadata": {
    "tags": []
   },
   "outputs": [
    {
     "data": {
      "text/markdown": [
       "\n",
       "### Two-Body Operator Transformation\n",
       "\n",
       "The two-body term in the fermionic Hamiltonian represents electron-electron interactions:\n",
       "\n",
       "$$\\hat{H}_2 = \\frac{1}{2}\\sum_{i,j,k,l} h_{ijkl} \\hat{a}_i^\\dagger\\hat{a}_j^\\dagger \\hat{a}_k\\hat{a}_l$$\n",
       "\n",
       "Where $h_{ijkl}$ are the two-electron integrals, and the Jordan-Wigner mapping transforms this into:\n",
       "\n",
       "1. Map each creation operator: $\\hat{a}_i^\\dagger \\rightarrow \\frac{1}{2}(\\hat{X}_i - i\\hat{Y}_i)\\prod_{j<i}\\hat{Z}_j$\n",
       "2. Map each annihilation operator: $\\hat{a}_i \\rightarrow \\frac{1}{2}(\\hat{X}_i + i\\hat{Y}_i)\\prod_{j<i}\\hat{Z}_j$\n",
       "3. Multiply these transformed operators according to the fermionic Hamiltonian\n"
      ],
      "text/plain": [
       "<IPython.core.display.Markdown object>"
      ]
     },
     "metadata": {},
     "output_type": "display_data"
    },
    {
     "data": {
      "text/markdown": [
       "\n",
       "### Building the Two-Body Qubit Hamiltonian\n",
       "\n",
       "The two-body term represents electron-electron interactions in the fermionic Hamiltonian:\n",
       "\n",
       "$$\\hat{H}_2 = \\frac{1}{2}\\sum_{i,j,k,l} h_{ijkl} \\hat{a}_i^{\\dagger}\\hat{a}_j^{\\dagger} \\hat{a}_k\\hat{a}_l$$\n",
       "\n",
       "Where:\n",
       "- $h_{ijkl}$ are the two-electron integrals from molecular orbital calculations\n",
       "- $\\hat{a}_i^{\\dagger}$ and $\\hat{a}_j^{\\dagger}$ are creation operators\n",
       "- $\\hat{a}_k$ and $\\hat{a}_l$ are annihilation operators\n",
       "\n",
       "Each fermionic operator is mapped to a sum of Pauli strings using the Jordan-Wigner transformation, \n",
       "resulting in a quantum Hamiltonian with approximately 4096 terms before simplification.\n"
      ],
      "text/plain": [
       "<IPython.core.display.Markdown object>"
      ]
     },
     "metadata": {},
     "output_type": "display_data"
    },
    {
     "name": "stdout",
     "output_type": "stream",
     "text": [
      "Loading h2_mo_integrals_d_0750.npz\n"
     ]
    },
    {
     "data": {
      "text/markdown": [
       "\n",
       "The raw two-body operator contains approximately 4096 Pauli terms before simplification!\n",
       "\n",
       "This complexity comes from:\n",
       "- Each fermionic operator maps to 2 Pauli terms\n",
       "- Each two-body integral term has 4 fermionic operators\n",
       "- Therefore each $h_{ijkl}$ term produces $2^4 = 16$ Pauli terms\n",
       "- With the two-body integral tensor having dimensions $4×4×4×4 = 256$ elements\n",
       "- This gives $256 × 16 = 4096$ raw Pauli terms\n",
       "\n",
       "Next, we'll simplify this operator by combining like terms and removing negligible contributions.\n"
      ],
      "text/plain": [
       "<IPython.core.display.Markdown object>"
      ]
     },
     "metadata": {},
     "output_type": "display_data"
    }
   ],
   "source": [
    "# Display mathematical explanation of the two-body operator transformation\n",
    "display(Markdown(r\"\"\"\n",
    "### Two-Body Operator Transformation\n",
    "\n",
    "The two-body term in the fermionic Hamiltonian represents electron-electron interactions:\n",
    "\n",
    "$$\\hat{H}_2 = \\frac{1}{2}\\sum_{i,j,k,l} h_{ijkl} \\hat{a}_i^\\dagger\\hat{a}_j^\\dagger \\hat{a}_k\\hat{a}_l$$\n",
    "\n",
    "Where $h_{ijkl}$ are the two-electron integrals, and the Jordan-Wigner mapping transforms this into:\n",
    "\n",
    "1. Map each creation operator: $\\hat{a}_i^\\dagger \\rightarrow \\frac{1}{2}(\\hat{X}_i - i\\hat{Y}_i)\\prod_{j<i}\\hat{Z}_j$\n",
    "2. Map each annihilation operator: $\\hat{a}_i \\rightarrow \\frac{1}{2}(\\hat{X}_i + i\\hat{Y}_i)\\prod_{j<i}\\hat{Z}_j$\n",
    "3. Multiply these transformed operators according to the fermionic Hamiltonian\n",
    "\"\"\"))\n",
    "\n",
    "%autoreload\n",
    "from quantum_chemistry.mapping import build_two_body_qubit_hamiltonian, creation_annihilation_operators_with_jordan_wigner\n",
    "from quantum_chemistry.molecule.h2_molecule import load_h2_spin_orbital_integral\n",
    "\n",
    "display(Markdown(r\"\"\"\n",
    "### Building the Two-Body Qubit Hamiltonian\n",
    "\n",
    "The two-body term represents electron-electron interactions in the fermionic Hamiltonian:\n",
    "\n",
    "$$\\hat{H}_2 = \\frac{1}{2}\\sum_{i,j,k,l} h_{ijkl} \\hat{a}_i^{\\dagger}\\hat{a}_j^{\\dagger} \\hat{a}_k\\hat{a}_l$$\n",
    "\n",
    "Where:\n",
    "- $h_{ijkl}$ are the two-electron integrals from molecular orbital calculations\n",
    "- $\\hat{a}_i^{\\dagger}$ and $\\hat{a}_j^{\\dagger}$ are creation operators\n",
    "- $\\hat{a}_k$ and $\\hat{a}_l$ are annihilation operators\n",
    "\n",
    "Each fermionic operator is mapped to a sum of Pauli strings using the Jordan-Wigner transformation, \n",
    "resulting in a quantum Hamiltonian with approximately 4096 terms before simplification.\n",
    "\"\"\"))\n",
    "\n",
    "distance, one_body, two_body, nuc_eneg = load_h2_spin_orbital_integral(\"../h2_data\",\"h2_mo_integrals_d_0750.npz\")\n",
    "creation_operators, annihilation_operators = creation_annihilation_operators_with_jordan_wigner(4)\n",
    "\n",
    "two_operator = build_two_body_qubit_hamiltonian(two_body, creation_operators, annihilation_operators)\n",
    "\n",
    "# Display analysis of generated two-body operator\n",
    "display(Markdown(r\"\"\"\n",
    "The raw two-body operator contains approximately 4096 Pauli terms before simplification!\n",
    "\n",
    "This complexity comes from:\n",
    "- Each fermionic operator maps to 2 Pauli terms\n",
    "- Each two-body integral term has 4 fermionic operators\n",
    "- Therefore each $h_{ijkl}$ term produces $2^4 = 16$ Pauli terms\n",
    "- With the two-body integral tensor having dimensions $4×4×4×4 = 256$ elements\n",
    "- This gives $256 × 16 = 4096$ raw Pauli terms\n",
    "\n",
    "Next, we'll simplify this operator by combining like terms and removing negligible contributions.\n",
    "\"\"\"))"
   ]
  },
  {
   "cell_type": "markdown",
   "metadata": {},
   "source": [
    "Applying the `combine` and `apply_threshold` this reduce to 15 Pauli strings!"
   ]
  },
  {
   "cell_type": "code",
   "execution_count": null,
   "metadata": {},
   "outputs": [
    {
     "name": "stdout",
     "output_type": "stream",
     "text": [
      "(0.91+0.00j)*IIII\n",
      "(-0.46+0.00j)*ZIII\n",
      "(-0.46+0.00j)*IIZI\n",
      "(-0.45+0.00j)*IZII\n",
      "(-0.45+0.00j)*IIIZ\n",
      "(0.17+0.00j)*ZIZI\n",
      "(0.17+0.00j)*IZIZ\n",
      "(0.17+0.00j)*IZZI\n",
      "(0.17+0.00j)*ZIIZ\n",
      "(0.12+0.00j)*IIZZ\n",
      "(0.12+0.00j)*ZZII\n",
      "(0.05+0.00j)*XXXX\n",
      "(0.05+0.00j)*YYXX\n",
      "(0.05+0.00j)*XXYY\n",
      "(0.05+0.00j)*YYYY\n"
     ]
    }
   ],
   "source": [
    "# Process the two-body operator by applying threshold, combining like terms, and sorting\n",
    "two_operator = two_operator.apply_threshold().combine().apply_threshold().sort()\n",
    "print(two_operator)\n",
    "\n",
    "# Display mathematical explanation and interpretation of the simplified two-body operator\n",
    "display(Markdown(r\"\"\"\n",
    "### Simplified Two-Body Operator\n",
    "\n",
    "We've transformed the raw two-body operator (with ~4096 terms) into this compact representation with only 15 terms!\n",
    "\n",
    "This dramatic reduction occurs because:\n",
    "1. Many terms have coefficients that are effectively zero\n",
    "2. Many Pauli strings appear multiple times with different coefficients that combine\n",
    "3. Some terms cancel each other out completely\n",
    "\n",
    "The simplified operator captures the essential physics of electron-electron interactions\n",
    "while being much more feasible to implement on a quantum computer.\n",
    "\n",
    "Each term in this expression represents a specific type of interaction in the molecular system.\n",
    "For example, ZZZZ terms represent pair-wise interactions between electron spins.\n",
    "\"\"\"))"
   ]
  },
  {
   "attachments": {},
   "cell_type": "markdown",
   "metadata": {},
   "source": [
    "You should get :\n",
    "\n",
    "<code>\n",
    "(1.83+0.00j)*IIII<br>\n",
    "(-0.92+0.00j)*ZIII<br>\n",
    "(-0.92+0.00j)*IIZI<br>\n",
    "(-0.91+0.00j)*IIIZ<br>\n",
    "(-0.91+0.00j)*IZII<br>\n",
    "(0.35+0.00j)*ZIZI<br>\n",
    "(0.34+0.00j)*IZIZ<br>\n",
    "(0.33+0.00j)*ZIIZ<br>\n",
    "(0.33+0.00j)*IZZI<br>\n",
    "(0.24+0.00j)*IIZZ<br>\n",
    "(0.24+0.00j)*ZZII<br>\n",
    "(0.09+0.00j)*YYYY<br>\n",
    "(0.09+0.00j)*XXYY<br>\n",
    "(0.09+0.00j)*YYXX<br>\n",
    "(0.09+0.00j)*XXXX<br>\n",
    "</code>"
   ]
  },
  {
   "cell_type": "markdown",
   "metadata": {},
   "source": [
    "### Molecular Hamiltonian\n",
    "\n",
    "The molecular Hamiltonian is just the sum of the one and two body terms. Implement th function `build_qubit_hamiltonian` in `mapping.py`. You should now be able to run this code."
   ]
  },
  {
   "cell_type": "code",
   "execution_count": 43,
   "metadata": {},
   "outputs": [
    {
     "name": "stdout",
     "output_type": "stream",
     "text": [
      "Loading h2_mo_integrals_d_0750.npz\n",
      "(-0.82+0.00j)*IIII\n",
      "(-0.22+0.00j)*ZIII\n",
      "(-0.22+0.00j)*IIZI\n",
      "(0.17+0.00j)*ZIZI\n",
      "(0.17+0.00j)*IIIZ\n",
      "(0.17+0.00j)*IZII\n",
      "(0.17+0.00j)*IZIZ\n",
      "(0.17+0.00j)*IZZI\n",
      "(0.17+0.00j)*ZIIZ\n",
      "(0.12+0.00j)*IIZZ\n",
      "(0.12+0.00j)*ZZII\n",
      "(0.05+0.00j)*XXXX\n",
      "(0.05+0.00j)*YYXX\n",
      "(0.05+0.00j)*XXYY\n",
      "(0.05+0.00j)*YYYY\n"
     ]
    }
   ],
   "source": [
    "%autoreload\n",
    "from quantum_chemistry.mapping import build_qubit_hamiltonian, creation_annihilation_operators_with_jordan_wigner\n",
    "from quantum_chemistry.molecule.h2_molecule import load_h2_spin_orbital_integral\n",
    "\n",
    "distance, one_body, two_body, nuc_eneg = load_h2_spin_orbital_integral(\"../h2_data\",\"h2_mo_integrals_d_0750.npz\")\n",
    "creation_operators, annihilation_operators = creation_annihilation_operators_with_jordan_wigner(4)\n",
    "\n",
    "qubit_hamiltonian = build_qubit_hamiltonian(one_body, two_body, creation_operators, annihilation_operators)\n",
    "\n",
    "print(qubit_hamiltonian)"
   ]
  },
  {
   "cell_type": "code",
   "execution_count": 44,
   "metadata": {},
   "outputs": [
    {
     "data": {
      "text/markdown": [
       "\n",
       "### Complete Molecular Hamiltonian\n",
       "\n",
       "The full molecular Hamiltonian combines:\n",
       "\n",
       "1. **One-body terms** (~5 significant terms) - Represent electron-nuclei interactions and \n",
       "   electron kinetic energy\n",
       "2. **Two-body terms** (~15 significant terms) - Represent electron-electron interactions\n",
       "3. **Nuclear repulsion** (constant term) - Added to the final energy but not to the operator\n",
       "\n",
       "This Hamiltonian with ~20 Pauli terms is remarkably simplified from the raw mapping that \n",
       "initially produced over 4,000 terms through:\n",
       "- Term combination (adding coefficients of identical Pauli strings)\n",
       "- Threshold application (removing negligible terms)\n",
       "- Natural cancellations from the Jordan-Wigner mapping\n",
       "\n",
       "The simplified operator can be directly used in quantum algorithms like VQE.\n"
      ],
      "text/plain": [
       "<IPython.core.display.Markdown object>"
      ]
     },
     "metadata": {},
     "output_type": "display_data"
    },
    {
     "name": "stdout",
     "output_type": "stream",
     "text": [
      "(-0.82+0.00j)*IIII\n",
      "(-0.22+0.00j)*ZIII\n",
      "(-0.22+0.00j)*IIZI\n",
      "(0.17+0.00j)*ZIZI\n",
      "(0.17+0.00j)*IIIZ\n",
      "(0.17+0.00j)*IZII\n",
      "(0.17+0.00j)*IZIZ\n",
      "(0.17+0.00j)*IZZI\n",
      "(0.17+0.00j)*ZIIZ\n",
      "(0.12+0.00j)*IIZZ\n",
      "(0.12+0.00j)*ZZII\n",
      "(0.05+0.00j)*XXXX\n",
      "(0.05+0.00j)*YYXX\n",
      "(0.05+0.00j)*XXYY\n",
      "(0.05+0.00j)*YYYY\n"
     ]
    }
   ],
   "source": [
    "qubit_hamiltonian = build_qubit_hamiltonian(one_body, two_body, creation_operators, annihilation_operators)\n",
    "\n",
    "# Display explanation of complete molecular Hamiltonian\n",
    "from IPython.display import display, Markdown\n",
    "display(Markdown(r\"\"\"\n",
    "### Complete Molecular Hamiltonian\n",
    "\n",
    "The full molecular Hamiltonian combines:\n",
    "\n",
    "1. **One-body terms** (~5 significant terms) - Represent electron-nuclei interactions and \n",
    "   electron kinetic energy\n",
    "2. **Two-body terms** (~15 significant terms) - Represent electron-electron interactions\n",
    "3. **Nuclear repulsion** (constant term) - Added to the final energy but not to the operator\n",
    "\n",
    "This Hamiltonian with ~20 Pauli terms is remarkably simplified from the raw mapping that \n",
    "initially produced over 4,000 terms through:\n",
    "- Term combination (adding coefficients of identical Pauli strings)\n",
    "- Threshold application (removing negligible terms)\n",
    "- Natural cancellations from the Jordan-Wigner mapping\n",
    "\n",
    "The simplified operator can be directly used in quantum algorithms like VQE.\n",
    "\"\"\"))\n",
    "\n",
    "print(qubit_hamiltonian)"
   ]
  },
  {
   "cell_type": "markdown",
   "metadata": {},
   "source": [
    "You should get :\n",
    "\n",
    "<code>\n",
    "(-0.82+0.00j)*IIII<br>\n",
    "(-0.22+0.00j)*IIZI<br>\n",
    "(-0.22+0.00j)*ZIII<br>\n",
    "(0.17+0.00j)*ZIZI<br>\n",
    "(0.17+0.00j)*IIIZ<br>\n",
    "(0.17+0.00j)*IZII<br>\n",
    "(0.17+0.00j)*IZIZ<br>\n",
    "(0.17+0.00j)*ZIIZ<br>\n",
    "(0.17+0.00j)*IZZI<br>\n",
    "(0.12+0.00j)*IIZZ<br>\n",
    "(0.12+0.00j)*ZZII<br>\n",
    "(0.05+0.00j)*YYYY<br>\n",
    "(0.05+0.00j)*XXYY<br>\n",
    "(0.05+0.00j)*YYXX<br>\n",
    "(0.05+0.00j)*XXXX<br>\n",
    "</code>"
   ]
  },
  {
   "cell_type": "markdown",
   "metadata": {},
   "source": [
    "## You have completed your first mapping of H2!\n",
    "\n",
    "What now? The next step is to use this mapping to evaluate the Hamiltonian on a quantum computer. This is the topic of the next tutorial.\n"
   ]
  },
  {
   "cell_type": "markdown",
   "metadata": {},
   "source": [
    "Notebook by **Maxime Dion** <maxime.dion@usherbrooke.ca><br>\n",
    "For the QSciTech-QuantumBC virtual workshop on gate-based quantum computing"
   ]
  }
 ],
 "metadata": {
  "kernelspec": {
   "display_name": ".venv",
   "language": "python",
   "name": "python3"
  },
  "language_info": {
   "codemirror_mode": {
    "name": "ipython",
    "version": 3
   },
   "file_extension": ".py",
   "mimetype": "text/x-python",
   "name": "python",
   "nbconvert_exporter": "python",
   "pygments_lexer": "ipython3",
   "version": "3.13.3"
  },
  "toc": {
   "base_numbering": 1,
   "nav_menu": {},
   "number_sections": true,
   "sideBar": true,
   "skip_h1_title": false,
   "title_cell": "Table of Contents",
   "title_sidebar": "Contents",
   "toc_cell": false,
   "toc_position": {},
   "toc_section_display": true,
   "toc_window_display": false
  }
 },
 "nbformat": 4,
 "nbformat_minor": 2
}
